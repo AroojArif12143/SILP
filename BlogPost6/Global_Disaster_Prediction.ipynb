{
  "cells": [
    {
      "cell_type": "markdown",
      "metadata": {
        "id": "RwWM1hkch4Ix"
      },
      "source": [
        "# Affect of climate change in different regions around the 🌎\n",
        "\n",
        "---\n",
        "\n"
      ]
    },
    {
      "cell_type": "markdown",
      "metadata": {
        "id": "A4TqqrdCjXSf"
      },
      "source": [
        "Using this tool, you can evaluate long term trends of climate change by automatically extracting more than 60 years of historical (1958-2020) and 30 years of projected (4 degree Celsius warming, 1985-2015) precipitation records for any location in the world."
      ]
    },
    {
      "cell_type": "markdown",
      "metadata": {
        "id": "xa-nQJmzR_tY"
      },
      "source": [
        "Please uncomment the following line before using the tool for another exercise (i.e., when you intend to try the tool for a new location). This action will delete the entire output folder of your previous exercise. "
      ]
    },
    {
      "cell_type": "code",
      "execution_count": 36,
      "metadata": {
        "id": "0rTUXFDaRsc9"
      },
      "outputs": [],
      "source": [
        "import shutil\n",
        "import os \n",
        "\n",
        "directory_path_to_remove = 'content/project'\n",
        "\n",
        "if os.path.exists(directory_path_to_remove):\n",
        "    print('to remove')\n",
        "    shutil.rmtree(directory_path_to_remove)\n",
        "\n",
        "#!rm -rf '/content/project'"
      ]
    },
    {
      "cell_type": "markdown",
      "metadata": {
        "id": "AqALBHkIhruv"
      },
      "source": [
        "## Step 1: Install modules 📊"
      ]
    },
    {
      "cell_type": "code",
      "execution_count": 26,
      "metadata": {
        "colab": {
          "base_uri": "https://localhost:8080/"
        },
        "id": "0eFOgb4vPr_p",
        "outputId": "66eb9bcc-e69d-4b0a-8c2e-3aa284f8b668"
      },
      "outputs": [
        {
          "name": "stdout",
          "output_type": "stream",
          "text": [
            "Requirement already satisfied: folium in c:\\users\\chinh\\anaconda3\\lib\\site-packages (0.14.0)\n",
            "Requirement already satisfied: wget in c:\\users\\chinh\\anaconda3\\lib\\site-packages (3.2)\n",
            "Requirement already satisfied: netCDF4 in c:\\users\\chinh\\anaconda3\\lib\\site-packages (1.6.2)\n",
            "Requirement already satisfied: branca>=0.6.0 in c:\\users\\chinh\\anaconda3\\lib\\site-packages (from folium) (0.6.0)\n",
            "Requirement already satisfied: numpy in c:\\users\\chinh\\anaconda3\\lib\\site-packages (from folium) (1.21.5)\n",
            "Requirement already satisfied: requests in c:\\users\\chinh\\anaconda3\\lib\\site-packages (from folium) (2.26.0)\n",
            "Requirement already satisfied: jinja2>=2.9 in c:\\users\\chinh\\anaconda3\\lib\\site-packages (from folium) (2.11.3)\n",
            "Requirement already satisfied: cftime in c:\\users\\chinh\\anaconda3\\lib\\site-packages (from netCDF4) (1.6.2)\n",
            "Requirement already satisfied: MarkupSafe>=0.23 in c:\\users\\chinh\\anaconda3\\lib\\site-packages (from jinja2>=2.9->folium) (2.0.1)\n",
            "Requirement already satisfied: urllib3<1.27,>=1.21.1 in c:\\users\\chinh\\anaconda3\\lib\\site-packages (from requests->folium) (1.26.11)\n",
            "Requirement already satisfied: idna<4,>=2.5 in c:\\users\\chinh\\anaconda3\\lib\\site-packages (from requests->folium) (3.3)\n",
            "Requirement already satisfied: certifi>=2017.4.17 in c:\\users\\chinh\\anaconda3\\lib\\site-packages (from requests->folium) (2022.9.14)\n",
            "Requirement already satisfied: charset-normalizer~=2.0.0 in c:\\users\\chinh\\anaconda3\\lib\\site-packages (from requests->folium) (2.0.4)\n"
          ]
        }
      ],
      "source": [
        "!pip install folium wget netCDF4"
      ]
    },
    {
      "cell_type": "markdown",
      "metadata": {
        "id": "AOJAF5Bfhy4i"
      },
      "source": [
        "## Step 2: Import modules 📊"
      ]
    },
    {
      "cell_type": "code",
      "execution_count": 27,
      "metadata": {
        "id": "YTqcGVKFz6rx"
      },
      "outputs": [],
      "source": [
        "import folium, wget, os, csv, os.path, datetime\n",
        "from folium import plugins\n",
        "from branca.element import Figure\n",
        "import netCDF4 as nc\n",
        "import pandas as pd\n",
        "import numpy as np\n",
        "import matplotlib.pyplot as plt\n",
        "import matplotlib.dates as mdates\n",
        "from scipy.stats import linregress\n",
        "# from google.colab import files\n",
        "from matplotlib.backends.backend_pdf import PdfPages\n",
        "from matplotlib.dates import DateFormatter\n",
        "import xarray as xr\n",
        "# from google.colab import files\n",
        "%matplotlib inline"
      ]
    },
    {
      "cell_type": "markdown",
      "metadata": {
        "id": "byPR-33YglQF"
      },
      "source": [
        "## Step 3: Download precipitation data ⛈️\n"
      ]
    },
    {
      "cell_type": "markdown",
      "metadata": {
        "id": "HFQUIVwSO-uN"
      },
      "source": [
        "The tool can automatically access two precipition datasets from any location in the world from a dataset called **TerraClimate**: (i) more than 60 years of precipitation record from 1958 to 2020**,  and (ii) a projected precipitation with respect to a climatological baseline of 1985-2015, considering climate changes (+4 degree Celsius warming). See the following references for more details. \n",
        "\n",
        "Reference: \n",
        "1. Abatzoglou, J., Dobrowski, S., Parks, S. et al. TerraClimate, a high-resolution global dataset of monthly climate and climatic water balance from 1958–2015. Sci Data 5, 170191 (2018). https://doi.org/10.1038/sdata.2017.191 **[Historical record]**\n",
        "\n",
        "2. Qin, Y., Abatzoglou, J.T., Siebert, S. et al. Agricultural risks from changing snowmelt. Nat. Clim. Chang. 10, 459–465 (2020). https://doi.org/10.1038/s41558-020-0746-8 **[Projected (+4C warming) record]**\n",
        "\n",
        "**TerraClimate gets frequently updated to include recent data. \n",
        "\n",
        "This tool can automatically access the new data whenever it is available in TerraClimate. "
      ]
    },
    {
      "cell_type": "code",
      "execution_count": 28,
      "metadata": {
        "colab": {
          "base_uri": "https://localhost:8080/"
        },
        "id": "Yx3KtmYmKXy3",
        "outputId": "cd3712ab-b928-4c0f-f73b-3dbd4887daa4"
      },
      "outputs": [
        {
          "name": "stdout",
          "output_type": "stream",
          "text": [
            "Please select your time range\n"
          ]
        },
        {
          "ename": "ContentTooShortError",
          "evalue": "<urlopen error retrieval incomplete: got only 8430223 out of 122563997 bytes>",
          "output_type": "error",
          "traceback": [
            "\u001b[1;31m---------------------------------------------------------------------------\u001b[0m",
            "\u001b[1;31mContentTooShortError\u001b[0m                      Traceback (most recent call last)",
            "\u001b[1;32m~\\AppData\\Local\\Temp\\ipykernel_24504\\4246105020.py\u001b[0m in \u001b[0;36m<module>\u001b[1;34m\u001b[0m\n\u001b[0;32m     16\u001b[0m     \u001b[1;32mpass\u001b[0m\u001b[1;33m\u001b[0m\u001b[1;33m\u001b[0m\u001b[0m\n\u001b[0;32m     17\u001b[0m   \u001b[1;32melse\u001b[0m\u001b[1;33m:\u001b[0m\u001b[1;33m\u001b[0m\u001b[1;33m\u001b[0m\u001b[0m\n\u001b[1;32m---> 18\u001b[1;33m     \u001b[0mwget\u001b[0m\u001b[1;33m.\u001b[0m\u001b[0mdownload\u001b[0m\u001b[1;33m(\u001b[0m\u001b[0mtarget_P_url\u001b[0m\u001b[1;33m,\u001b[0m \u001b[0mout\u001b[0m\u001b[1;33m=\u001b[0m\u001b[0mout_dir\u001b[0m \u001b[1;33m+\u001b[0m \u001b[1;34m'/Prep'\u001b[0m\u001b[1;33m)\u001b[0m\u001b[1;33m\u001b[0m\u001b[1;33m\u001b[0m\u001b[0m\n\u001b[0m\u001b[0;32m     19\u001b[0m \u001b[1;33m\u001b[0m\u001b[0m\n\u001b[0;32m     20\u001b[0m \u001b[1;33m\u001b[0m\u001b[0m\n",
            "\u001b[1;32mc:\\Users\\chinh\\anaconda3\\lib\\site-packages\\wget.py\u001b[0m in \u001b[0;36mdownload\u001b[1;34m(url, out, bar)\u001b[0m\n\u001b[0;32m    524\u001b[0m     \u001b[1;32melse\u001b[0m\u001b[1;33m:\u001b[0m\u001b[1;33m\u001b[0m\u001b[1;33m\u001b[0m\u001b[0m\n\u001b[0;32m    525\u001b[0m         \u001b[0mbinurl\u001b[0m \u001b[1;33m=\u001b[0m \u001b[0murl\u001b[0m\u001b[1;33m\u001b[0m\u001b[1;33m\u001b[0m\u001b[0m\n\u001b[1;32m--> 526\u001b[1;33m     \u001b[1;33m(\u001b[0m\u001b[0mtmpfile\u001b[0m\u001b[1;33m,\u001b[0m \u001b[0mheaders\u001b[0m\u001b[1;33m)\u001b[0m \u001b[1;33m=\u001b[0m \u001b[0mulib\u001b[0m\u001b[1;33m.\u001b[0m\u001b[0murlretrieve\u001b[0m\u001b[1;33m(\u001b[0m\u001b[0mbinurl\u001b[0m\u001b[1;33m,\u001b[0m \u001b[0mtmpfile\u001b[0m\u001b[1;33m,\u001b[0m \u001b[0mcallback\u001b[0m\u001b[1;33m)\u001b[0m\u001b[1;33m\u001b[0m\u001b[1;33m\u001b[0m\u001b[0m\n\u001b[0m\u001b[0;32m    527\u001b[0m     \u001b[0mfilename\u001b[0m \u001b[1;33m=\u001b[0m \u001b[0mdetect_filename\u001b[0m\u001b[1;33m(\u001b[0m\u001b[0murl\u001b[0m\u001b[1;33m,\u001b[0m \u001b[0mout\u001b[0m\u001b[1;33m,\u001b[0m \u001b[0mheaders\u001b[0m\u001b[1;33m)\u001b[0m\u001b[1;33m\u001b[0m\u001b[1;33m\u001b[0m\u001b[0m\n\u001b[0;32m    528\u001b[0m     \u001b[1;32mif\u001b[0m \u001b[0moutdir\u001b[0m\u001b[1;33m:\u001b[0m\u001b[1;33m\u001b[0m\u001b[1;33m\u001b[0m\u001b[0m\n",
            "\u001b[1;32mc:\\Users\\chinh\\anaconda3\\lib\\urllib\\request.py\u001b[0m in \u001b[0;36murlretrieve\u001b[1;34m(url, filename, reporthook, data)\u001b[0m\n\u001b[0;32m    276\u001b[0m \u001b[1;33m\u001b[0m\u001b[0m\n\u001b[0;32m    277\u001b[0m     \u001b[1;32mif\u001b[0m \u001b[0msize\u001b[0m \u001b[1;33m>=\u001b[0m \u001b[1;36m0\u001b[0m \u001b[1;32mand\u001b[0m \u001b[0mread\u001b[0m \u001b[1;33m<\u001b[0m \u001b[0msize\u001b[0m\u001b[1;33m:\u001b[0m\u001b[1;33m\u001b[0m\u001b[1;33m\u001b[0m\u001b[0m\n\u001b[1;32m--> 278\u001b[1;33m         raise ContentTooShortError(\n\u001b[0m\u001b[0;32m    279\u001b[0m             \u001b[1;34m\"retrieval incomplete: got only %i out of %i bytes\"\u001b[0m\u001b[1;33m\u001b[0m\u001b[1;33m\u001b[0m\u001b[0m\n\u001b[0;32m    280\u001b[0m             % (read, size), result)\n",
            "\u001b[1;31mContentTooShortError\u001b[0m: <urlopen error retrieval incomplete: got only 8430223 out of 122563997 bytes>"
          ]
        }
      ],
      "source": [
        "out_dir = 'content/project'\n",
        "if not os.path.exists(out_dir + '/Prep'):\n",
        "  os.makedirs(out_dir + '/Prep')\n",
        "\n",
        "print(\"Please select your time range\")\n",
        "Start_year = str(input(\"Enter the start year for historical precipitation data (1985-2020): \"))\n",
        "End_year = str(input(\"Enter the end year for historical precipitation data (1985-2020): \"))\n",
        "Start_year2 = str(input(\"Enter the start year for climate change data (1985-2015): \"))\n",
        "End_year2 = str(input(\"Enter the end year for climate change data (1985-2015): \"))\n",
        "\n",
        "base_P_url = \"http://thredds.northwestknowledge.net:8080/thredds/fileServer/TERRACLIMATE_ALL/data/TerraClimate_ppt_\"\n",
        "for i in range(int(Start_year), int(End_year)+1):\n",
        "  target_P_url = base_P_url +str(i)+'.nc'\n",
        "  file_P = 'content/project/Prep/TerraClimate_ppt_'+str(i)+'.nc'\n",
        "  if os.path.exists(file_P):\n",
        "    pass\n",
        "  else: \n",
        "    wget.download(target_P_url, out=out_dir + '/Prep')\n",
        "\n",
        "\n",
        "base_F_url = \"http://thredds.northwestknowledge.net:8080/thredds/fileServer/TERRACLIMATE_ALL/data_plus4C/TerraClimate_4c_ppt_\"\n",
        "for j in range(int(Start_year2), int(End_year2)+1):\n",
        "  target_P_url = base_P_url +str(j)+'.nc'\n",
        "  target_F_url = base_F_url +str(j)+'.nc'\n",
        "  file_P = 'content/project/Prep/TerraClimate_ppt_'+str(j)+'.nc'\n",
        "  file_F = 'content/project/Prep/TerraClimate_4c_ppt_'+str(j)+'.nc'\n",
        "  \n",
        "  if os.path.exists(file_P):\n",
        "    pass\n",
        "  else:\n",
        "    wget.download(target_P_url, out=out_dir + '/Prep')\n",
        "  if os.path.exists(file_F):\n",
        "    pass\n",
        "  else: \n",
        "    wget.download(target_F_url, out=out_dir + '/Prep')\n",
        "    \n",
        "print(\"Job done\")\n"
      ]
    },
    {
      "cell_type": "markdown",
      "metadata": {
        "id": "Cx30Qkl235zW"
      },
      "source": [
        "## Step 4: Browse over an interactive global map and select your location of interest 🗺️\n"
      ]
    },
    {
      "cell_type": "markdown",
      "metadata": {
        "id": "S1aqoCLYGuD7"
      },
      "source": [
        "Browse over the map, zoom-in to your location of interest, and left-click the mouse. The map will show the latitude and longtitude of your location."
      ]
    },
    {
      "cell_type": "code",
      "execution_count": null,
      "metadata": {
        "colab": {
          "base_uri": "https://localhost:8080/",
          "height": 583
        },
        "id": "PvwbD2eV0ZW-",
        "outputId": "91c28a00-ac25-446f-c0c3-19a1f5b89c2b"
      },
      "outputs": [],
      "source": [
        "m = folium.Map(min_zoom=2, max_bounds=True, tiles = 'Stamen Terrain')\n",
        "m.add_child(folium.LatLngPopup())\n",
        "m.add_child(folium.LayerControl())\n",
        "m"
      ]
    },
    {
      "cell_type": "markdown",
      "metadata": {
        "id": "lJ4jWlQdGxSZ"
      },
      "source": [
        "Note the latitude and longitude shown on the map and type them in the fields below."
      ]
    },
    {
      "cell_type": "code",
      "execution_count": null,
      "metadata": {
        "colab": {
          "base_uri": "https://localhost:8080/"
        },
        "id": "6sKdn5g-BMvr",
        "outputId": "4c27db1f-f29a-4ad4-de10-58f62df6e936"
      },
      "outputs": [],
      "source": [
        "Lat = str(input(\"Please type latitude: \"))\n",
        "Lon = str(input(\"Please type longitude: \"))"
      ]
    },
    {
      "cell_type": "markdown",
      "metadata": {
        "id": "py_8PFFTiwGZ"
      },
      "source": [
        "## Step 5: Post-processing netCDF files 🔮🌟📈\n"
      ]
    },
    {
      "cell_type": "markdown",
      "metadata": {
        "id": "sR9SWyjWIpMN"
      },
      "source": [
        "Read netCDF file and check the units of the datasets "
      ]
    },
    {
      "cell_type": "code",
      "execution_count": null,
      "metadata": {
        "colab": {
          "base_uri": "https://localhost:8080/",
          "height": 291
        },
        "id": "lUknXgE5iy-2",
        "outputId": "74cd7533-9266-48f9-f2b5-156f6b8cfc38"
      },
      "outputs": [],
      "source": [
        "os.chdir(\"content/project/Prep\")\n",
        "\n",
        "p = xr.open_mfdataset(\"TerraClimate_ppt_*.nc\")\n",
        "f = xr.open_mfdataset(\"TerraClimate_4c_ppt_*.nc\")\n",
        "\n",
        "f"
      ]
    },
    {
      "cell_type": "markdown",
      "metadata": {
        "id": "W0mFpBJeSfId"
      },
      "source": [
        "### (i) Read and extract monthly precipitation data from netCDF, then save it as a CSV file 💾 "
      ]
    },
    {
      "cell_type": "code",
      "execution_count": null,
      "metadata": {
        "id": "VhsGQiE8UTt5"
      },
      "outputs": [],
      "source": [
        "results_path = out_dir + '/results'\n",
        "if not os.path.exists(results_path):\n",
        "  os.makedirs(results_path)\n",
        "\n",
        "p1 = p.sel(lon=Lon,lat=Lat,method='nearest')['ppt'].to_dataframe()\n",
        "p1 = p1.rename(columns ={'ppt':'Past_Precp_(mm/month)'})\n",
        "p2 = p1.rename_axis(\"Month\")\n",
        "p2 = p2[Start_year:End_year]\n",
        "p2 = p2[\"Past_Precp_(mm/month)\"]\n",
        "p2.index= pd.to_datetime(p2.index, format = '%m/%Y').strftime('%Y-%m')\n",
        "print(p2.head())\n",
        "p2.to_csv(results_path+'/Historical_Monthly_Prep_%s_%s.csv' % (Start_year, End_year))\n",
        "\n",
        "\n",
        "f1 = f.sel(lon=Lon,lat=Lat,method='nearest')['ppt'].to_dataframe()\n",
        "f1 = f1.rename(columns = {'ppt':'Projected(+4C_warming)_Precp_(mm/month)'})\n",
        "\n",
        "result = pd.merge(p1, f1, on=[\"time\"])\n",
        "result.reset_index(inplace=True)\n",
        "result['time']= result['time'].dt.to_period('M')\n",
        "result = result.rename(columns = {'time':'Month'})\n",
        "result = result[[\"Month\",\"Past_Precp_(mm/month)\",\"Projected(+4C_warming)_Precp_(mm/month)\"]]\n",
        "print(result.head())\n",
        "result.to_csv(results_path+'/ClimateChange_Monthly_Prep_%s_%s.csv' % (Start_year2, End_year2), index = False)"
      ]
    },
    {
      "cell_type": "markdown",
      "metadata": {
        "id": "BiVzALs3fB1o"
      },
      "source": [
        "### (ii) Calculate yearly total precipitation data, then save it as a CSV file 📁"
      ]
    },
    {
      "cell_type": "code",
      "execution_count": null,
      "metadata": {
        "colab": {
          "base_uri": "https://localhost:8080/",
          "height": 235
        },
        "id": "CmMF4_AZgmOC",
        "outputId": "5e7d69e2-0253-42e9-b19d-b2f10e16ef7d"
      },
      "outputs": [],
      "source": [
        "monthly_p = pd.read_csv(results_path+'/Historical_Monthly_Prep_%s_%s.csv' % (Start_year, End_year))\n",
        "monthly_p = monthly_p.rename(columns = {'Month':'Year','Past_Precp_(mm/month)':'Past_Precp_(mm/yr)'})\n",
        "monthly_p.Year = pd.to_datetime(monthly_p.Year)\n",
        "yearly_p = monthly_p.resample('Y',on='Year').sum()\n",
        "yearly_p.reset_index(inplace=True)\n",
        "yearly_p['Year']= yearly_p['Year'].dt.to_period('Y')\n",
        "print(yearly_p.head())\n",
        "yearly_p.to_csv(results_path+'/Historical_Yearly_Prep_%s_%s.csv' % (Start_year, End_year), index = False)\n",
        "\n",
        "monthly_cc = pd.read_csv(results_path+'/ClimateChange_Monthly_Prep_%s_%s.csv' % (Start_year2, End_year2))\n",
        "monthly_cc = monthly_cc.rename(columns = {'Month':'Year','Past_Precp_(mm/month)':'Past_Precp_(mm/yr)','Projected(+4C_warming)_Precp_(mm/month)':'Projected(+4C_warming)_Precp_(mm/yr)'})\n",
        "monthly_cc.Year = pd.to_datetime(monthly_cc.Year)\n",
        "yearly_cc = monthly_cc.resample('Y',on='Year').sum()\n",
        "yearly_cc.reset_index(inplace=True)\n",
        "yearly_cc['Year']= yearly_cc['Year'].dt.to_period('Y')\n",
        "print(yearly_cc.head())\n",
        "yearly_cc.to_csv(results_path+'/ClimateChange_Yearly_Prep_%s_%s.csv' % (Start_year2, End_year2), index = False)"
      ]
    },
    {
      "cell_type": "markdown",
      "metadata": {
        "id": "_970OQgRgIir"
      },
      "source": [
        "## Step 6: Visualize how precipitation has been changing over the years in your location of interest"
      ]
    },
    {
      "cell_type": "markdown",
      "metadata": {
        "id": "euDb3IwoRmGZ"
      },
      "source": [
        "### (i) Time-serie plot for historical precipitation over the year in location of interest 📊📊📊"
      ]
    },
    {
      "cell_type": "code",
      "execution_count": null,
      "metadata": {
        "colab": {
          "base_uri": "https://localhost:8080/",
          "height": 679
        },
        "id": "bh9HpHLMXAqs",
        "outputId": "d8853724-7bf0-420c-b9db-b15b3f5df3e4"
      },
      "outputs": [],
      "source": [
        "monthly_data = pd.read_csv(results_path+'/Historical_Monthly_Prep_'+Start_year+'_'+End_year+'.csv')\n",
        "monthly_data.insert(0, 'ID', np.arange(len(monthly_data)) + 1)\n",
        "monthly_data.Month = pd.to_datetime(monthly_data.Month)\n",
        "x1_m=monthly_data.ID\n",
        "y1_m=monthly_data['Past_Precp_(mm/month)']\n",
        "xdate1_m = [x.date() for x in monthly_data.Month]\n",
        "slope1, intercept1, r_value1, p_value1, std_err1 = linregress(x1_m, y1_m)\n",
        "  \n",
        "plot_monthly=plt.figure(figsize=(15, 5))\n",
        "bar1 = plt.bar(xdate1_m, y1_m, 15, label='Past Precipitation')\n",
        "line1 = plt.plot(xdate1_m, intercept1 + slope1*x1_m, 'r', label='Trend of past precipitation')\n",
        "plt.gcf().autofmt_xdate()\n",
        "plt.xlabel('Month', fontsize = 14)\n",
        "plt.ylabel('Precipitation (mm/month)', fontsize = 14)\n",
        "plt.title('Monthly Historical Precipitation (mm/month) for Selected Location (lat: %s, lon: %s)'%(Lat, Lon), fontsize = 16)\n",
        "plt.legend()\n",
        "plot_monthly.show()\n",
        "\n",
        "\n",
        "yearly_data = pd.read_csv(results_path+'/Historical_Yearly_Prep_'+Start_year+'_'+End_year+'.csv')\n",
        "yearly_data.insert(0, 'ID', np.arange(len(yearly_data)) + 1)\n",
        "x1_y=yearly_data.ID\n",
        "y1_y=yearly_data['Past_Precp_(mm/yr)']\n",
        "xdate1_y = yearly_data.Year\n",
        "slope3, intercept3, r_value3, p_value3, std_err3 = linregress(x1_y, y1_y)\n",
        "  \n",
        "plot_yearly=plt.figure(figsize=(15, 5))\n",
        "bar1 = plt.bar(xdate1_y, y1_y, 0.5, label='Past Precipitation')\n",
        "line1 = plt.plot(xdate1_y, intercept3 + slope3*x1_y, 'r', label='Trend of past precipitation')\n",
        "plt.xlabel('Year', fontsize = 14)\n",
        "plt.ylabel('Precipitation (mm)', fontsize = 14)\n",
        "plt.title('Yearly Historical Precipitation (mm/yr) for Selected Location (lat: %s, lon: %s)'%(Lat, Lon), fontsize = 16)\n",
        "plt.legend()\n",
        "plot_yearly.show()"
      ]
    },
    {
      "cell_type": "markdown",
      "metadata": {
        "id": "pO-D_-FPRrL5"
      },
      "source": [
        "### (ii) Comparison of historical and projected (+4C warming) preciptiation over the years in location of interest 🗺️📍"
      ]
    },
    {
      "cell_type": "code",
      "execution_count": null,
      "metadata": {
        "colab": {
          "base_uri": "https://localhost:8080/",
          "height": 1000
        },
        "id": "GH_KwtfA7VkN",
        "outputId": "0f831fa2-cea0-4112-b3a9-0bd4915e12e3"
      },
      "outputs": [],
      "source": [
        "from matplotlib import ticker\n",
        "\n",
        "comparem_data = pd.read_csv(results_path+'/ClimateChange_Monthly_Prep_'+Start_year2+'_'+End_year2+'.csv')\n",
        "f2 = comparem_data.set_index('Month')\n",
        "\n",
        "plot_comparem = plt.figure(figsize=(15, 8)) \n",
        "ax_m = plot_comparem.add_subplot() \n",
        "width = 0.3\n",
        "f2['Past_Precp_(mm/month)'].plot(kind='bar', color='red', ax=ax_m, width=width, position=1)\n",
        "f2['Projected(+4C_warming)_Precp_(mm/month)'].plot(kind='bar', color='blue', ax=ax_m, width=width, position=0)\n",
        "\n",
        "plt.xlabel('Month', fontsize = 14)\n",
        "plt.ylabel('Precipitation (mm/month)', fontsize = 14)\n",
        "plt.title('Monthly precipitation (mm/month) for Climate Change in location of interest (lat: %s, lon: %s)'%(Lat, Lon), fontsize = 16)\n",
        "plt.legend()\n",
        "plot_comparem.show()\n",
        "\n",
        "\n",
        "comparey_data = pd.read_csv(results_path+'/ClimateChange_Yearly_Prep_'+Start_year2+'_'+End_year2+'.csv')\n",
        "comparey_data['Year']=comparey_data['Year'].astype(str)\n",
        "f3 = comparey_data.set_index('Year')\n",
        "\n",
        "plot_comparey = plt.figure(figsize=(15, 8)) \n",
        "ax_y = plot_comparey.add_subplot() \n",
        "width = 0.2\n",
        "f3['Past_Precp_(mm/yr)'].plot(kind='bar', color='red', ax=ax_y, width=width, position=1)\n",
        "f3['Projected(+4C_warming)_Precp_(mm/yr)'].plot(kind='bar', color='blue', ax=ax_y, width=width, position=0)\n",
        "ax_y.tick_params(axis='x', labelrotation=45)\n",
        "plt.xlabel('Year', fontsize = 14)\n",
        "plt.ylabel('Precipitation (mm/yr)', fontsize = 14)\n",
        "plt.title('Yearly precipitation (mm/yr) for Climate Change in location of interest (lat: %s, lon: %s)'%(Lat, Lon), fontsize = 16)\n",
        "plt.legend()\n",
        "plot_comparey.show()"
      ]
    },
    {
      "cell_type": "markdown",
      "metadata": {
        "id": "2_RnTYbNcykj"
      },
      "source": [
        "## Step 7: Performing statistical analysis of climate change 🖩\n"
      ]
    },
    {
      "cell_type": "code",
      "execution_count": null,
      "metadata": {
        "colab": {
          "base_uri": "https://localhost:8080/"
        },
        "id": "gdQEqDEIPMCk",
        "outputId": "bdb7bf9d-fd88-4b06-eb38-69fa50a109af"
      },
      "outputs": [],
      "source": [
        "monthly_data = pd.read_csv(results_path+'/ClimateChange_Monthly_Prep_'+Start_year2+'_'+End_year2+'.csv')\n",
        "def esc(code):\n",
        "    return f'\\033[{code}m'\n",
        "print(esc('31;1;4') + 'Summary statistics of monthly precipitation'+ esc(0))\n",
        "print(monthly_data.agg(\n",
        "    {\"Past_Precp_(mm/month)\":[\"count\",\"mean\",\"std\",\"min\",\"max\"],\n",
        "     \"Projected(+4C_warming)_Precp_(mm/month)\":[\"count\",\"mean\",\"std\",\"min\",\"max\"]\n",
        "     }))\n",
        "\n",
        "\n",
        "yearly_data = pd.read_csv(results_path+'/ClimateChange_Yearly_Prep_'+Start_year2+'_'+End_year2+'.csv')\n",
        "def esc(code):\n",
        "    return f'\\033[{code}m'\n",
        "print(esc('31;1;4') + 'Summary statistics of yearly precipitation'+ esc(0))\n",
        "print(yearly_data.agg(\n",
        "    {\"Past_Precp_(mm/yr)\":[\"count\",\"mean\",\"std\",\"min\",\"max\"],\n",
        "     \"Projected(+4C_warming)_Precp_(mm/yr)\":[\"count\",\"mean\",\"std\",\"min\",\"max\"]\n",
        "     }))"
      ]
    },
    {
      "cell_type": "markdown",
      "metadata": {
        "id": "WD9GSN2AltZG"
      },
      "source": [
        "## Step 8: Download four CSV files (monthly and yearly historical and projected precipitation data) and time-series plots to the local computer 🚩"
      ]
    },
    {
      "cell_type": "code",
      "execution_count": null,
      "metadata": {
        "id": "7HbSBARcksJ4"
      },
      "outputs": [],
      "source": [
        "pp = PdfPages(results_path+'/Time-series_Plots.pdf')\n",
        "plot_monthly.savefig(pp, format='pdf')\n",
        "plot_yearly.savefig(pp, format='pdf')\n",
        "plot_comparem.savefig(pp, format='pdf')\n",
        "plot_comparey.savefig(pp, format='pdf')\n",
        "pp.close()"
      ]
    },
    {
      "cell_type": "code",
      "execution_count": null,
      "metadata": {
        "colab": {
          "base_uri": "https://localhost:8080/"
        },
        "id": "pEou9d7pkKFi",
        "outputId": "9f85f629-9cd2-48b7-e58e-6cb0e19520b9"
      },
      "outputs": [],
      "source": [
        "#!zip -r /content/project/results.zip /content/project/results\n",
        "shutil.make_archive('content/project/results', 'zip', '/content/project/results')"
      ]
    },
    {
      "cell_type": "code",
      "execution_count": null,
      "metadata": {
        "colab": {
          "base_uri": "https://localhost:8080/",
          "height": 17
        },
        "id": "6WdgU0VB-yyi",
        "outputId": "f7700b10-580b-42a6-eb8a-59844a64ce69"
      },
      "outputs": [],
      "source": [
        "# files.download('/content/project/results.zip')"
      ]
    },
    {
      "cell_type": "markdown",
      "metadata": {
        "id": "PGn_AXIrsD--"
      },
      "source": [
        "Kudos, you did it! ✨"
      ]
    }
  ],
  "metadata": {
    "colab": {
      "provenance": [],
      "toc_visible": true
    },
    "kernelspec": {
      "display_name": "base",
      "language": "python",
      "name": "python3"
    },
    "language_info": {
      "codemirror_mode": {
        "name": "ipython",
        "version": 3
      },
      "file_extension": ".py",
      "mimetype": "text/x-python",
      "name": "python",
      "nbconvert_exporter": "python",
      "pygments_lexer": "ipython3",
      "version": "3.9.13"
    },
    "vscode": {
      "interpreter": {
        "hash": "349e36a231a9f16a9514728f9a2c662492d8d5a5d4e774e65bacbba99d6d09d3"
      }
    }
  },
  "nbformat": 4,
  "nbformat_minor": 0
}
