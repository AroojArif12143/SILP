{
  "nbformat": 4,
  "nbformat_minor": 0,
  "metadata": {
    "colab": {
      "provenance": [],
      "toc_visible": true
    },
    "kernelspec": {
      "name": "python3",
      "display_name": "Python 3"
    }
  },
  "cells": [
    {
      "cell_type": "markdown",
      "metadata": {
        "id": "RwWM1hkch4Ix"
      },
      "source": [
        "# Affect of climate change in different regions around the 🌎\n",
        "\n",
        "---\n",
        "\n"
      ]
    },
    {
      "cell_type": "markdown",
      "metadata": {
        "id": "A4TqqrdCjXSf"
      },
      "source": [
        "Using this tool, you can evaluate long term trends of climate change by automatically extracting more than 60 years of historical (1958-2020) and 30 years of projected (4 degree Celsius warming, 1985-2015) precipitation records for any location in the world."
      ]
    },
    {
      "cell_type": "markdown",
      "metadata": {
        "id": "xa-nQJmzR_tY"
      },
      "source": [
        "Please uncomment the following line before using the tool for another exercise (i.e., when you intend to try the tool for a new location). This action will delete the entire output folder of your previous exercise. "
      ]
    },
    {
      "cell_type": "code",
      "metadata": {
        "id": "0rTUXFDaRsc9"
      },
      "source": [
        " !rm -rf '/content/project'"
      ],
      "execution_count": null,
      "outputs": []
    },
    {
      "cell_type": "markdown",
      "metadata": {
        "id": "AqALBHkIhruv"
      },
      "source": [
        "## Step 1: Install modules 📊"
      ]
    },
    {
      "cell_type": "code",
      "metadata": {
        "id": "0eFOgb4vPr_p",
        "colab": {
          "base_uri": "https://localhost:8080/"
        },
        "outputId": "66eb9bcc-e69d-4b0a-8c2e-3aa284f8b668"
      },
      "source": [
        "!pip install folium wget netCDF4"
      ],
      "execution_count": null,
      "outputs": [
        {
          "output_type": "stream",
          "name": "stdout",
          "text": [
            "Looking in indexes: https://pypi.org/simple, https://us-python.pkg.dev/colab-wheels/public/simple/\n",
            "Requirement already satisfied: folium in /usr/local/lib/python3.8/dist-packages (0.12.1.post1)\n",
            "Requirement already satisfied: wget in /usr/local/lib/python3.8/dist-packages (3.2)\n",
            "Requirement already satisfied: netCDF4 in /usr/local/lib/python3.8/dist-packages (1.6.2)\n",
            "Requirement already satisfied: numpy in /usr/local/lib/python3.8/dist-packages (from folium) (1.21.6)\n",
            "Requirement already satisfied: requests in /usr/local/lib/python3.8/dist-packages (from folium) (2.23.0)\n",
            "Requirement already satisfied: branca>=0.3.0 in /usr/local/lib/python3.8/dist-packages (from folium) (0.6.0)\n",
            "Requirement already satisfied: jinja2>=2.9 in /usr/local/lib/python3.8/dist-packages (from folium) (2.11.3)\n",
            "Requirement already satisfied: MarkupSafe>=0.23 in /usr/local/lib/python3.8/dist-packages (from jinja2>=2.9->folium) (2.0.1)\n",
            "Requirement already satisfied: cftime in /usr/local/lib/python3.8/dist-packages (from netCDF4) (1.6.2)\n",
            "Requirement already satisfied: chardet<4,>=3.0.2 in /usr/local/lib/python3.8/dist-packages (from requests->folium) (3.0.4)\n",
            "Requirement already satisfied: idna<3,>=2.5 in /usr/local/lib/python3.8/dist-packages (from requests->folium) (2.10)\n",
            "Requirement already satisfied: urllib3!=1.25.0,!=1.25.1,<1.26,>=1.21.1 in /usr/local/lib/python3.8/dist-packages (from requests->folium) (1.24.3)\n",
            "Requirement already satisfied: certifi>=2017.4.17 in /usr/local/lib/python3.8/dist-packages (from requests->folium) (2022.12.7)\n"
          ]
        }
      ]
    },
    {
      "cell_type": "markdown",
      "metadata": {
        "id": "AOJAF5Bfhy4i"
      },
      "source": [
        "## Step 2: Import modules 📊"
      ]
    },
    {
      "cell_type": "code",
      "metadata": {
        "id": "YTqcGVKFz6rx"
      },
      "source": [
        "import folium, wget, os, csv, os.path, datetime\n",
        "from folium import plugins\n",
        "from branca.element import Figure\n",
        "import netCDF4 as nc\n",
        "import pandas as pd\n",
        "import numpy as np\n",
        "import matplotlib.pyplot as plt\n",
        "import matplotlib.dates as mdates\n",
        "from scipy.stats import linregress\n",
        "from google.colab import files\n",
        "from matplotlib.backends.backend_pdf import PdfPages\n",
        "from matplotlib.dates import DateFormatter\n",
        "import xarray as xr\n",
        "from google.colab import files\n",
        "%matplotlib inline"
      ],
      "execution_count": null,
      "outputs": []
    },
    {
      "cell_type": "markdown",
      "metadata": {
        "id": "byPR-33YglQF"
      },
      "source": [
        "## Step 3: Download precipitation data ⛈️\n"
      ]
    },
    {
      "cell_type": "markdown",
      "metadata": {
        "id": "HFQUIVwSO-uN"
      },
      "source": [
        "The tool can automatically access two precipition datasets from any location in the world from a dataset called **TerraClimate**: (i) more than 60 years of precipitation record from 1958 to 2020**,  and (ii) a projected precipitation with respect to a climatological baseline of 1985-2015, considering climate changes (+4 degree Celsius warming). See the following references for more details. \n",
        "\n",
        "Reference: \n",
        "1. Abatzoglou, J., Dobrowski, S., Parks, S. et al. TerraClimate, a high-resolution global dataset of monthly climate and climatic water balance from 1958–2015. Sci Data 5, 170191 (2018). https://doi.org/10.1038/sdata.2017.191 **[Historical record]**\n",
        "\n",
        "2. Qin, Y., Abatzoglou, J.T., Siebert, S. et al. Agricultural risks from changing snowmelt. Nat. Clim. Chang. 10, 459–465 (2020). https://doi.org/10.1038/s41558-020-0746-8 **[Projected (+4C warming) record]**\n",
        "\n",
        "**TerraClimate gets frequently updated to include recent data. \n",
        "\n",
        "This tool can automatically access the new data whenever it is available in TerraClimate. "
      ]
    },
    {
      "cell_type": "code",
      "metadata": {
        "id": "Yx3KtmYmKXy3",
        "colab": {
          "base_uri": "https://localhost:8080/"
        },
        "outputId": "cd3712ab-b928-4c0f-f73b-3dbd4887daa4"
      },
      "source": [
        "out_dir = '/content/project'\n",
        "if not os.path.exists(out_dir + '/Prep'):\n",
        "  os.makedirs(out_dir + '/Prep')\n",
        "\n",
        "print(\"Please select your time range\")\n",
        "Start_year = str(input(\"Enter the start year for historical precipitation data (1985-2020): \"))\n",
        "End_year = str(input(\"Enter the end year for historical precipitation data (1985-2020): \"))\n",
        "Start_year2 = str(input(\"Enter the start year for climate change data (1985-2015): \"))\n",
        "End_year2 = str(input(\"Enter the end year for climate change data (1985-2015): \"))\n",
        "\n",
        "base_P_url = \"http://thredds.northwestknowledge.net:8080/thredds/fileServer/TERRACLIMATE_ALL/data/TerraClimate_ppt_\"\n",
        "for i in range(int(Start_year), int(End_year)+1):\n",
        "  target_P_url = base_P_url +str(i)+'.nc'\n",
        "  file_P = '/content/project/Prep/TerraClimate_ppt_'+str(i)+'.nc'\n",
        "  if os.path.exists(file_P):\n",
        "    pass\n",
        "  else: \n",
        "    wget.download(target_P_url, out=out_dir + '/Prep')\n",
        "\n",
        "\n",
        "base_F_url = \"http://thredds.northwestknowledge.net:8080/thredds/fileServer/TERRACLIMATE_ALL/data_plus4C/TerraClimate_4c_ppt_\"\n",
        "for j in range(int(Start_year2), int(End_year2)+1):\n",
        "  target_P_url = base_P_url +str(j)+'.nc'\n",
        "  target_F_url = base_F_url +str(j)+'.nc'\n",
        "  file_P = '/content/project/Prep/TerraClimate_ppt_'+str(j)+'.nc'\n",
        "  file_F = '/content/project/Prep/TerraClimate_4c_ppt_'+str(j)+'.nc'\n",
        "  \n",
        "  if os.path.exists(file_P):\n",
        "    pass\n",
        "  else:\n",
        "    wget.download(target_P_url, out=out_dir + '/Prep')\n",
        "  if os.path.exists(file_F):\n",
        "    pass\n",
        "  else: \n",
        "    wget.download(target_F_url, out=out_dir + '/Prep')\n",
        "    \n",
        "print(\"Job done\")\n"
      ],
      "execution_count": null,
      "outputs": [
        {
          "output_type": "stream",
          "name": "stdout",
          "text": [
            "Please select your time range\n",
            "Enter the start year for historical precipitation data (1985-2020): 1985\n",
            "Enter the end year for historical precipitation data (1985-2020): 2021\n",
            "Enter the start year for climate change data (1985-2015): 1985\n",
            "Enter the end year for climate change data (1985-2015): 1990\n",
            "Job done\n"
          ]
        }
      ]
    },
    {
      "cell_type": "markdown",
      "metadata": {
        "id": "Cx30Qkl235zW"
      },
      "source": [
        "## Step 4: Browse over an interactive global map and select your location of interest 🗺️\n"
      ]
    },
    {
      "cell_type": "markdown",
      "metadata": {
        "id": "S1aqoCLYGuD7"
      },
      "source": [
        "Browse over the map, zoom-in to your location of interest, and left-click the mouse. The map will show the latitude and longtitude of your location."
      ]
    },
    {
      "cell_type": "code",
      "metadata": {
        "id": "PvwbD2eV0ZW-",
        "colab": {
          "base_uri": "https://localhost:8080/",
          "height": 583
        },
        "outputId": "91c28a00-ac25-446f-c0c3-19a1f5b89c2b"
      },
      "source": [
        "m = folium.Map(min_zoom=2, max_bounds=True, tiles = 'Stamen Terrain')\n",
        "m.add_child(folium.LatLngPopup())\n",
        "m.add_child(folium.LayerControl())\n",
        "m"
      ],
      "execution_count": null,
      "outputs": [
        {
          "output_type": "execute_result",
          "data": {
            "text/plain": [
              "<folium.folium.Map at 0x7fef2ff09880>"
            ],
            "text/html": [
              "<div style=\"width:100%;\"><div style=\"position:relative;width:100%;height:0;padding-bottom:60%;\"><span style=\"color:#565656\">Make this Notebook Trusted to load map: File -> Trust Notebook</span><iframe srcdoc=\"&lt;!DOCTYPE html&gt;\n",
              "&lt;html&gt;\n",
              "&lt;head&gt;\n",
              "    \n",
              "    &lt;meta http-equiv=&quot;content-type&quot; content=&quot;text/html; charset=UTF-8&quot; /&gt;\n",
              "    \n",
              "        &lt;script&gt;\n",
              "            L_NO_TOUCH = false;\n",
              "            L_DISABLE_3D = false;\n",
              "        &lt;/script&gt;\n",
              "    \n",
              "    &lt;style&gt;html, body {width: 100%;height: 100%;margin: 0;padding: 0;}&lt;/style&gt;\n",
              "    &lt;style&gt;#map {position:absolute;top:0;bottom:0;right:0;left:0;}&lt;/style&gt;\n",
              "    &lt;script src=&quot;https://cdn.jsdelivr.net/npm/leaflet@1.6.0/dist/leaflet.js&quot;&gt;&lt;/script&gt;\n",
              "    &lt;script src=&quot;https://code.jquery.com/jquery-1.12.4.min.js&quot;&gt;&lt;/script&gt;\n",
              "    &lt;script src=&quot;https://maxcdn.bootstrapcdn.com/bootstrap/3.2.0/js/bootstrap.min.js&quot;&gt;&lt;/script&gt;\n",
              "    &lt;script src=&quot;https://cdnjs.cloudflare.com/ajax/libs/Leaflet.awesome-markers/2.0.2/leaflet.awesome-markers.js&quot;&gt;&lt;/script&gt;\n",
              "    &lt;link rel=&quot;stylesheet&quot; href=&quot;https://cdn.jsdelivr.net/npm/leaflet@1.6.0/dist/leaflet.css&quot;/&gt;\n",
              "    &lt;link rel=&quot;stylesheet&quot; href=&quot;https://maxcdn.bootstrapcdn.com/bootstrap/3.2.0/css/bootstrap.min.css&quot;/&gt;\n",
              "    &lt;link rel=&quot;stylesheet&quot; href=&quot;https://maxcdn.bootstrapcdn.com/bootstrap/3.2.0/css/bootstrap-theme.min.css&quot;/&gt;\n",
              "    &lt;link rel=&quot;stylesheet&quot; href=&quot;https://maxcdn.bootstrapcdn.com/font-awesome/4.6.3/css/font-awesome.min.css&quot;/&gt;\n",
              "    &lt;link rel=&quot;stylesheet&quot; href=&quot;https://cdnjs.cloudflare.com/ajax/libs/Leaflet.awesome-markers/2.0.2/leaflet.awesome-markers.css&quot;/&gt;\n",
              "    &lt;link rel=&quot;stylesheet&quot; href=&quot;https://cdn.jsdelivr.net/gh/python-visualization/folium/folium/templates/leaflet.awesome.rotate.min.css&quot;/&gt;\n",
              "    \n",
              "            &lt;meta name=&quot;viewport&quot; content=&quot;width=device-width,\n",
              "                initial-scale=1.0, maximum-scale=1.0, user-scalable=no&quot; /&gt;\n",
              "            &lt;style&gt;\n",
              "                #map_60fd44153e03a04ab32b0ff66d4a90c2 {\n",
              "                    position: relative;\n",
              "                    width: 100.0%;\n",
              "                    height: 100.0%;\n",
              "                    left: 0.0%;\n",
              "                    top: 0.0%;\n",
              "                }\n",
              "            &lt;/style&gt;\n",
              "        \n",
              "&lt;/head&gt;\n",
              "&lt;body&gt;\n",
              "    \n",
              "    \n",
              "            &lt;div class=&quot;folium-map&quot; id=&quot;map_60fd44153e03a04ab32b0ff66d4a90c2&quot; &gt;&lt;/div&gt;\n",
              "        \n",
              "&lt;/body&gt;\n",
              "&lt;script&gt;\n",
              "    \n",
              "    \n",
              "            var map_60fd44153e03a04ab32b0ff66d4a90c2 = L.map(\n",
              "                &quot;map_60fd44153e03a04ab32b0ff66d4a90c2&quot;,\n",
              "                {\n",
              "                    center: [0, 0],\n",
              "                    crs: L.CRS.EPSG3857,\n",
              "                    maxBounds: [[-90, -180], [90, 180]],\n",
              "                    zoom: 1,\n",
              "                    zoomControl: true,\n",
              "                    preferCanvas: false,\n",
              "                }\n",
              "            );\n",
              "\n",
              "            \n",
              "\n",
              "        \n",
              "    \n",
              "            var tile_layer_814b5b9f94d76733c2d86498b734fa72 = L.tileLayer(\n",
              "                &quot;https://stamen-tiles-{s}.a.ssl.fastly.net/terrain/{z}/{x}/{y}.jpg&quot;,\n",
              "                {&quot;attribution&quot;: &quot;Map tiles by \\u003ca href=\\&quot;http://stamen.com\\&quot;\\u003eStamen Design\\u003c/a\\u003e, under \\u003ca href=\\&quot;http://creativecommons.org/licenses/by/3.0\\&quot;\\u003eCC BY 3.0\\u003c/a\\u003e. Data by \\u0026copy; \\u003ca href=\\&quot;http://openstreetmap.org\\&quot;\\u003eOpenStreetMap\\u003c/a\\u003e, under \\u003ca href=\\&quot;http://creativecommons.org/licenses/by-sa/3.0\\&quot;\\u003eCC BY SA\\u003c/a\\u003e.&quot;, &quot;detectRetina&quot;: false, &quot;maxNativeZoom&quot;: 18, &quot;maxZoom&quot;: 18, &quot;minZoom&quot;: 2, &quot;noWrap&quot;: false, &quot;opacity&quot;: 1, &quot;subdomains&quot;: &quot;abc&quot;, &quot;tms&quot;: false}\n",
              "            ).addTo(map_60fd44153e03a04ab32b0ff66d4a90c2);\n",
              "        \n",
              "    \n",
              "                var lat_lng_popup_1f4e1ffa445baa73d86200ddb8fc1ee0 = L.popup();\n",
              "                function latLngPop(e) {\n",
              "                    lat_lng_popup_1f4e1ffa445baa73d86200ddb8fc1ee0\n",
              "                        .setLatLng(e.latlng)\n",
              "                        .setContent(&quot;Latitude: &quot; + e.latlng.lat.toFixed(4) +\n",
              "                                    &quot;&lt;br&gt;Longitude: &quot; + e.latlng.lng.toFixed(4))\n",
              "                        .openOn(map_60fd44153e03a04ab32b0ff66d4a90c2);\n",
              "                    }\n",
              "                map_60fd44153e03a04ab32b0ff66d4a90c2.on(&#x27;click&#x27;, latLngPop);\n",
              "            \n",
              "    \n",
              "            var layer_control_3ee024fd6472fbb3c31d1f5cc15c605b = {\n",
              "                base_layers : {\n",
              "                    &quot;stamenterrain&quot; : tile_layer_814b5b9f94d76733c2d86498b734fa72,\n",
              "                },\n",
              "                overlays :  {\n",
              "                },\n",
              "            };\n",
              "            L.control.layers(\n",
              "                layer_control_3ee024fd6472fbb3c31d1f5cc15c605b.base_layers,\n",
              "                layer_control_3ee024fd6472fbb3c31d1f5cc15c605b.overlays,\n",
              "                {&quot;autoZIndex&quot;: true, &quot;collapsed&quot;: true, &quot;position&quot;: &quot;topright&quot;}\n",
              "            ).addTo(map_60fd44153e03a04ab32b0ff66d4a90c2);\n",
              "        \n",
              "&lt;/script&gt;\n",
              "&lt;/html&gt;\" style=\"position:absolute;width:100%;height:100%;left:0;top:0;border:none !important;\" allowfullscreen webkitallowfullscreen mozallowfullscreen></iframe></div></div>"
            ]
          },
          "metadata": {},
          "execution_count": 8
        }
      ]
    },
    {
      "cell_type": "markdown",
      "metadata": {
        "id": "lJ4jWlQdGxSZ"
      },
      "source": [
        "Note the latitude and longitude shown on the map and type them in the fields below."
      ]
    },
    {
      "cell_type": "code",
      "metadata": {
        "id": "6sKdn5g-BMvr",
        "colab": {
          "base_uri": "https://localhost:8080/"
        },
        "outputId": "4c27db1f-f29a-4ad4-de10-58f62df6e936"
      },
      "source": [
        "Lat = str(input(\"Please type latitude: \"))\n",
        "Lon = str(input(\"Please type longitude: \"))"
      ],
      "execution_count": null,
      "outputs": [
        {
          "name": "stdout",
          "output_type": "stream",
          "text": [
            "Please type latitude: 29.9930\n",
            "Please type longitude: 70.3125\n"
          ]
        }
      ]
    },
    {
      "cell_type": "markdown",
      "metadata": {
        "id": "py_8PFFTiwGZ"
      },
      "source": [
        "## Step 5: Post-processing netCDF files 🔮🌟📈\n"
      ]
    },
    {
      "cell_type": "markdown",
      "metadata": {
        "id": "sR9SWyjWIpMN"
      },
      "source": [
        "Read netCDF file and check the units of the datasets "
      ]
    },
    {
      "cell_type": "code",
      "metadata": {
        "id": "lUknXgE5iy-2",
        "colab": {
          "base_uri": "https://localhost:8080/",
          "height": 291
        },
        "outputId": "74cd7533-9266-48f9-f2b5-156f6b8cfc38"
      },
      "source": [
        "os.chdir(\"/content/project/Prep\")\n",
        "\n",
        "p = xr.open_mfdataset(\"TerraClimate_ppt_*.nc\")\n",
        "f = xr.open_mfdataset(\"TerraClimate_4c_ppt_*.nc\")\n",
        "\n",
        "f"
      ],
      "execution_count": null,
      "outputs": [
        {
          "output_type": "execute_result",
          "data": {
            "text/plain": [
              "<xarray.Dataset>\n",
              "Dimensions:  (lat: 4320, lon: 8640, time: 72, crs: 1)\n",
              "Coordinates:\n",
              "  * lat      (lat) float64 89.98 89.94 89.9 89.85 ... -89.85 -89.9 -89.94 -89.98\n",
              "  * lon      (lon) float64 -180.0 -179.9 -179.9 -179.9 ... 179.9 179.9 180.0\n",
              "  * time     (time) datetime64[ns] 1985-01-01 1985-02-01 ... 1990-12-01\n",
              "  * crs      (crs) int16 3\n",
              "Data variables:\n",
              "    ppt      (time, lat, lon) float32 dask.array<chunksize=(12, 4320, 8640), meta=np.ndarray>"
            ],
            "text/html": [
              "<div><svg style=\"position: absolute; width: 0; height: 0; overflow: hidden\">\n",
              "<defs>\n",
              "<symbol id=\"icon-database\" viewBox=\"0 0 32 32\">\n",
              "<path d=\"M16 0c-8.837 0-16 2.239-16 5v4c0 2.761 7.163 5 16 5s16-2.239 16-5v-4c0-2.761-7.163-5-16-5z\"></path>\n",
              "<path d=\"M16 17c-8.837 0-16-2.239-16-5v6c0 2.761 7.163 5 16 5s16-2.239 16-5v-6c0 2.761-7.163 5-16 5z\"></path>\n",
              "<path d=\"M16 26c-8.837 0-16-2.239-16-5v6c0 2.761 7.163 5 16 5s16-2.239 16-5v-6c0 2.761-7.163 5-16 5z\"></path>\n",
              "</symbol>\n",
              "<symbol id=\"icon-file-text2\" viewBox=\"0 0 32 32\">\n",
              "<path d=\"M28.681 7.159c-0.694-0.947-1.662-2.053-2.724-3.116s-2.169-2.030-3.116-2.724c-1.612-1.182-2.393-1.319-2.841-1.319h-15.5c-1.378 0-2.5 1.121-2.5 2.5v27c0 1.378 1.122 2.5 2.5 2.5h23c1.378 0 2.5-1.122 2.5-2.5v-19.5c0-0.448-0.137-1.23-1.319-2.841zM24.543 5.457c0.959 0.959 1.712 1.825 2.268 2.543h-4.811v-4.811c0.718 0.556 1.584 1.309 2.543 2.268zM28 29.5c0 0.271-0.229 0.5-0.5 0.5h-23c-0.271 0-0.5-0.229-0.5-0.5v-27c0-0.271 0.229-0.5 0.5-0.5 0 0 15.499-0 15.5 0v7c0 0.552 0.448 1 1 1h7v19.5z\"></path>\n",
              "<path d=\"M23 26h-14c-0.552 0-1-0.448-1-1s0.448-1 1-1h14c0.552 0 1 0.448 1 1s-0.448 1-1 1z\"></path>\n",
              "<path d=\"M23 22h-14c-0.552 0-1-0.448-1-1s0.448-1 1-1h14c0.552 0 1 0.448 1 1s-0.448 1-1 1z\"></path>\n",
              "<path d=\"M23 18h-14c-0.552 0-1-0.448-1-1s0.448-1 1-1h14c0.552 0 1 0.448 1 1s-0.448 1-1 1z\"></path>\n",
              "</symbol>\n",
              "</defs>\n",
              "</svg>\n",
              "<style>/* CSS stylesheet for displaying xarray objects in jupyterlab.\n",
              " *\n",
              " */\n",
              "\n",
              ":root {\n",
              "  --xr-font-color0: var(--jp-content-font-color0, rgba(0, 0, 0, 1));\n",
              "  --xr-font-color2: var(--jp-content-font-color2, rgba(0, 0, 0, 0.54));\n",
              "  --xr-font-color3: var(--jp-content-font-color3, rgba(0, 0, 0, 0.38));\n",
              "  --xr-border-color: var(--jp-border-color2, #e0e0e0);\n",
              "  --xr-disabled-color: var(--jp-layout-color3, #bdbdbd);\n",
              "  --xr-background-color: var(--jp-layout-color0, white);\n",
              "  --xr-background-color-row-even: var(--jp-layout-color1, white);\n",
              "  --xr-background-color-row-odd: var(--jp-layout-color2, #eeeeee);\n",
              "}\n",
              "\n",
              "html[theme=dark],\n",
              "body[data-theme=dark],\n",
              "body.vscode-dark {\n",
              "  --xr-font-color0: rgba(255, 255, 255, 1);\n",
              "  --xr-font-color2: rgba(255, 255, 255, 0.54);\n",
              "  --xr-font-color3: rgba(255, 255, 255, 0.38);\n",
              "  --xr-border-color: #1F1F1F;\n",
              "  --xr-disabled-color: #515151;\n",
              "  --xr-background-color: #111111;\n",
              "  --xr-background-color-row-even: #111111;\n",
              "  --xr-background-color-row-odd: #313131;\n",
              "}\n",
              "\n",
              ".xr-wrap {\n",
              "  display: block !important;\n",
              "  min-width: 300px;\n",
              "  max-width: 700px;\n",
              "}\n",
              "\n",
              ".xr-text-repr-fallback {\n",
              "  /* fallback to plain text repr when CSS is not injected (untrusted notebook) */\n",
              "  display: none;\n",
              "}\n",
              "\n",
              ".xr-header {\n",
              "  padding-top: 6px;\n",
              "  padding-bottom: 6px;\n",
              "  margin-bottom: 4px;\n",
              "  border-bottom: solid 1px var(--xr-border-color);\n",
              "}\n",
              "\n",
              ".xr-header > div,\n",
              ".xr-header > ul {\n",
              "  display: inline;\n",
              "  margin-top: 0;\n",
              "  margin-bottom: 0;\n",
              "}\n",
              "\n",
              ".xr-obj-type,\n",
              ".xr-array-name {\n",
              "  margin-left: 2px;\n",
              "  margin-right: 10px;\n",
              "}\n",
              "\n",
              ".xr-obj-type {\n",
              "  color: var(--xr-font-color2);\n",
              "}\n",
              "\n",
              ".xr-sections {\n",
              "  padding-left: 0 !important;\n",
              "  display: grid;\n",
              "  grid-template-columns: 150px auto auto 1fr 20px 20px;\n",
              "}\n",
              "\n",
              ".xr-section-item {\n",
              "  display: contents;\n",
              "}\n",
              "\n",
              ".xr-section-item input {\n",
              "  display: none;\n",
              "}\n",
              "\n",
              ".xr-section-item input + label {\n",
              "  color: var(--xr-disabled-color);\n",
              "}\n",
              "\n",
              ".xr-section-item input:enabled + label {\n",
              "  cursor: pointer;\n",
              "  color: var(--xr-font-color2);\n",
              "}\n",
              "\n",
              ".xr-section-item input:enabled + label:hover {\n",
              "  color: var(--xr-font-color0);\n",
              "}\n",
              "\n",
              ".xr-section-summary {\n",
              "  grid-column: 1;\n",
              "  color: var(--xr-font-color2);\n",
              "  font-weight: 500;\n",
              "}\n",
              "\n",
              ".xr-section-summary > span {\n",
              "  display: inline-block;\n",
              "  padding-left: 0.5em;\n",
              "}\n",
              "\n",
              ".xr-section-summary-in:disabled + label {\n",
              "  color: var(--xr-font-color2);\n",
              "}\n",
              "\n",
              ".xr-section-summary-in + label:before {\n",
              "  display: inline-block;\n",
              "  content: '►';\n",
              "  font-size: 11px;\n",
              "  width: 15px;\n",
              "  text-align: center;\n",
              "}\n",
              "\n",
              ".xr-section-summary-in:disabled + label:before {\n",
              "  color: var(--xr-disabled-color);\n",
              "}\n",
              "\n",
              ".xr-section-summary-in:checked + label:before {\n",
              "  content: '▼';\n",
              "}\n",
              "\n",
              ".xr-section-summary-in:checked + label > span {\n",
              "  display: none;\n",
              "}\n",
              "\n",
              ".xr-section-summary,\n",
              ".xr-section-inline-details {\n",
              "  padding-top: 4px;\n",
              "  padding-bottom: 4px;\n",
              "}\n",
              "\n",
              ".xr-section-inline-details {\n",
              "  grid-column: 2 / -1;\n",
              "}\n",
              "\n",
              ".xr-section-details {\n",
              "  display: none;\n",
              "  grid-column: 1 / -1;\n",
              "  margin-bottom: 5px;\n",
              "}\n",
              "\n",
              ".xr-section-summary-in:checked ~ .xr-section-details {\n",
              "  display: contents;\n",
              "}\n",
              "\n",
              ".xr-array-wrap {\n",
              "  grid-column: 1 / -1;\n",
              "  display: grid;\n",
              "  grid-template-columns: 20px auto;\n",
              "}\n",
              "\n",
              ".xr-array-wrap > label {\n",
              "  grid-column: 1;\n",
              "  vertical-align: top;\n",
              "}\n",
              "\n",
              ".xr-preview {\n",
              "  color: var(--xr-font-color3);\n",
              "}\n",
              "\n",
              ".xr-array-preview,\n",
              ".xr-array-data {\n",
              "  padding: 0 5px !important;\n",
              "  grid-column: 2;\n",
              "}\n",
              "\n",
              ".xr-array-data,\n",
              ".xr-array-in:checked ~ .xr-array-preview {\n",
              "  display: none;\n",
              "}\n",
              "\n",
              ".xr-array-in:checked ~ .xr-array-data,\n",
              ".xr-array-preview {\n",
              "  display: inline-block;\n",
              "}\n",
              "\n",
              ".xr-dim-list {\n",
              "  display: inline-block !important;\n",
              "  list-style: none;\n",
              "  padding: 0 !important;\n",
              "  margin: 0;\n",
              "}\n",
              "\n",
              ".xr-dim-list li {\n",
              "  display: inline-block;\n",
              "  padding: 0;\n",
              "  margin: 0;\n",
              "}\n",
              "\n",
              ".xr-dim-list:before {\n",
              "  content: '(';\n",
              "}\n",
              "\n",
              ".xr-dim-list:after {\n",
              "  content: ')';\n",
              "}\n",
              "\n",
              ".xr-dim-list li:not(:last-child):after {\n",
              "  content: ',';\n",
              "  padding-right: 5px;\n",
              "}\n",
              "\n",
              ".xr-has-index {\n",
              "  font-weight: bold;\n",
              "}\n",
              "\n",
              ".xr-var-list,\n",
              ".xr-var-item {\n",
              "  display: contents;\n",
              "}\n",
              "\n",
              ".xr-var-item > div,\n",
              ".xr-var-item label,\n",
              ".xr-var-item > .xr-var-name span {\n",
              "  background-color: var(--xr-background-color-row-even);\n",
              "  margin-bottom: 0;\n",
              "}\n",
              "\n",
              ".xr-var-item > .xr-var-name:hover span {\n",
              "  padding-right: 5px;\n",
              "}\n",
              "\n",
              ".xr-var-list > li:nth-child(odd) > div,\n",
              ".xr-var-list > li:nth-child(odd) > label,\n",
              ".xr-var-list > li:nth-child(odd) > .xr-var-name span {\n",
              "  background-color: var(--xr-background-color-row-odd);\n",
              "}\n",
              "\n",
              ".xr-var-name {\n",
              "  grid-column: 1;\n",
              "}\n",
              "\n",
              ".xr-var-dims {\n",
              "  grid-column: 2;\n",
              "}\n",
              "\n",
              ".xr-var-dtype {\n",
              "  grid-column: 3;\n",
              "  text-align: right;\n",
              "  color: var(--xr-font-color2);\n",
              "}\n",
              "\n",
              ".xr-var-preview {\n",
              "  grid-column: 4;\n",
              "}\n",
              "\n",
              ".xr-index-preview {\n",
              "  grid-column: 2 / 5;\n",
              "  color: var(--xr-font-color2);\n",
              "}\n",
              "\n",
              ".xr-var-name,\n",
              ".xr-var-dims,\n",
              ".xr-var-dtype,\n",
              ".xr-preview,\n",
              ".xr-attrs dt {\n",
              "  white-space: nowrap;\n",
              "  overflow: hidden;\n",
              "  text-overflow: ellipsis;\n",
              "  padding-right: 10px;\n",
              "}\n",
              "\n",
              ".xr-var-name:hover,\n",
              ".xr-var-dims:hover,\n",
              ".xr-var-dtype:hover,\n",
              ".xr-attrs dt:hover {\n",
              "  overflow: visible;\n",
              "  width: auto;\n",
              "  z-index: 1;\n",
              "}\n",
              "\n",
              ".xr-var-attrs,\n",
              ".xr-var-data,\n",
              ".xr-index-data {\n",
              "  display: none;\n",
              "  background-color: var(--xr-background-color) !important;\n",
              "  padding-bottom: 5px !important;\n",
              "}\n",
              "\n",
              ".xr-var-attrs-in:checked ~ .xr-var-attrs,\n",
              ".xr-var-data-in:checked ~ .xr-var-data,\n",
              ".xr-index-data-in:checked ~ .xr-index-data {\n",
              "  display: block;\n",
              "}\n",
              "\n",
              ".xr-var-data > table {\n",
              "  float: right;\n",
              "}\n",
              "\n",
              ".xr-var-name span,\n",
              ".xr-var-data,\n",
              ".xr-index-name div,\n",
              ".xr-index-data,\n",
              ".xr-attrs {\n",
              "  padding-left: 25px !important;\n",
              "}\n",
              "\n",
              ".xr-attrs,\n",
              ".xr-var-attrs,\n",
              ".xr-var-data,\n",
              ".xr-index-data {\n",
              "  grid-column: 1 / -1;\n",
              "}\n",
              "\n",
              "dl.xr-attrs {\n",
              "  padding: 0;\n",
              "  margin: 0;\n",
              "  display: grid;\n",
              "  grid-template-columns: 125px auto;\n",
              "}\n",
              "\n",
              ".xr-attrs dt,\n",
              ".xr-attrs dd {\n",
              "  padding: 0;\n",
              "  margin: 0;\n",
              "  float: left;\n",
              "  padding-right: 10px;\n",
              "  width: auto;\n",
              "}\n",
              "\n",
              ".xr-attrs dt {\n",
              "  font-weight: normal;\n",
              "  grid-column: 1;\n",
              "}\n",
              "\n",
              ".xr-attrs dt:hover span {\n",
              "  display: inline-block;\n",
              "  background: var(--xr-background-color);\n",
              "  padding-right: 10px;\n",
              "}\n",
              "\n",
              ".xr-attrs dd {\n",
              "  grid-column: 2;\n",
              "  white-space: pre-wrap;\n",
              "  word-break: break-all;\n",
              "}\n",
              "\n",
              ".xr-icon-database,\n",
              ".xr-icon-file-text2,\n",
              ".xr-no-icon {\n",
              "  display: inline-block;\n",
              "  vertical-align: middle;\n",
              "  width: 1em;\n",
              "  height: 1.5em !important;\n",
              "  stroke-width: 0;\n",
              "  stroke: currentColor;\n",
              "  fill: currentColor;\n",
              "}\n",
              "</style><pre class='xr-text-repr-fallback'>&lt;xarray.Dataset&gt;\n",
              "Dimensions:  (lat: 4320, lon: 8640, time: 72, crs: 1)\n",
              "Coordinates:\n",
              "  * lat      (lat) float64 89.98 89.94 89.9 89.85 ... -89.85 -89.9 -89.94 -89.98\n",
              "  * lon      (lon) float64 -180.0 -179.9 -179.9 -179.9 ... 179.9 179.9 180.0\n",
              "  * time     (time) datetime64[ns] 1985-01-01 1985-02-01 ... 1990-12-01\n",
              "  * crs      (crs) int16 3\n",
              "Data variables:\n",
              "    ppt      (time, lat, lon) float32 dask.array&lt;chunksize=(12, 4320, 8640), meta=np.ndarray&gt;</pre><div class='xr-wrap' style='display:none'><div class='xr-header'><div class='xr-obj-type'>xarray.Dataset</div></div><ul class='xr-sections'><li class='xr-section-item'><input id='section-f6cd191d-0311-4cfc-b73d-069d13ba8642' class='xr-section-summary-in' type='checkbox' disabled ><label for='section-f6cd191d-0311-4cfc-b73d-069d13ba8642' class='xr-section-summary'  title='Expand/collapse section'>Dimensions:</label><div class='xr-section-inline-details'><ul class='xr-dim-list'><li><span class='xr-has-index'>lat</span>: 4320</li><li><span class='xr-has-index'>lon</span>: 8640</li><li><span class='xr-has-index'>time</span>: 72</li><li><span class='xr-has-index'>crs</span>: 1</li></ul></div><div class='xr-section-details'></div></li><li class='xr-section-item'><input id='section-7f05bf86-372a-4b4c-a904-013d08e96457' class='xr-section-summary-in' type='checkbox'  checked><label for='section-7f05bf86-372a-4b4c-a904-013d08e96457' class='xr-section-summary' >Coordinates: <span>(4)</span></label><div class='xr-section-inline-details'></div><div class='xr-section-details'><ul class='xr-var-list'><li class='xr-var-item'><div class='xr-var-name'><span class='xr-has-index'>lat</span></div><div class='xr-var-dims'>(lat)</div><div class='xr-var-dtype'>float64</div><div class='xr-var-preview xr-preview'>89.98 89.94 89.9 ... -89.94 -89.98</div><input id='attrs-910cb56c-ff5b-4756-a9b4-d5ae9a5b9614' class='xr-var-attrs-in' type='checkbox' ><label for='attrs-910cb56c-ff5b-4756-a9b4-d5ae9a5b9614' title='Show/Hide attributes'><svg class='icon xr-icon-file-text2'><use xlink:href='#icon-file-text2'></use></svg></label><input id='data-abebc600-8431-446f-a2d1-33f853db09d1' class='xr-var-data-in' type='checkbox'><label for='data-abebc600-8431-446f-a2d1-33f853db09d1' title='Show/Hide data repr'><svg class='icon xr-icon-database'><use xlink:href='#icon-database'></use></svg></label><div class='xr-var-attrs'><dl class='xr-attrs'><dt><span>units :</span></dt><dd>degrees_north</dd><dt><span>long_name :</span></dt><dd>latitude</dd><dt><span>axis :</span></dt><dd>Y</dd></dl></div><div class='xr-var-data'><pre>array([ 89.979167,  89.9375  ,  89.895833, ..., -89.895833, -89.9375  ,\n",
              "       -89.979167])</pre></div></li><li class='xr-var-item'><div class='xr-var-name'><span class='xr-has-index'>lon</span></div><div class='xr-var-dims'>(lon)</div><div class='xr-var-dtype'>float64</div><div class='xr-var-preview xr-preview'>-180.0 -179.9 ... 179.9 180.0</div><input id='attrs-2815e93f-337a-4b9a-92af-9f0f70a82251' class='xr-var-attrs-in' type='checkbox' ><label for='attrs-2815e93f-337a-4b9a-92af-9f0f70a82251' title='Show/Hide attributes'><svg class='icon xr-icon-file-text2'><use xlink:href='#icon-file-text2'></use></svg></label><input id='data-a160f9a8-3edd-44aa-a55e-639d68acff01' class='xr-var-data-in' type='checkbox'><label for='data-a160f9a8-3edd-44aa-a55e-639d68acff01' title='Show/Hide data repr'><svg class='icon xr-icon-database'><use xlink:href='#icon-database'></use></svg></label><div class='xr-var-attrs'><dl class='xr-attrs'><dt><span>units :</span></dt><dd>degrees_east</dd><dt><span>long_name :</span></dt><dd>longitude</dd><dt><span>axis :</span></dt><dd>X</dd></dl></div><div class='xr-var-data'><pre>array([-179.979167, -179.9375  , -179.895833, ...,  179.895833,  179.9375  ,\n",
              "        179.979167])</pre></div></li><li class='xr-var-item'><div class='xr-var-name'><span class='xr-has-index'>time</span></div><div class='xr-var-dims'>(time)</div><div class='xr-var-dtype'>datetime64[ns]</div><div class='xr-var-preview xr-preview'>1985-01-01 ... 1990-12-01</div><input id='attrs-d778c214-7a6e-4344-89aa-7ed12b2981c3' class='xr-var-attrs-in' type='checkbox' ><label for='attrs-d778c214-7a6e-4344-89aa-7ed12b2981c3' title='Show/Hide attributes'><svg class='icon xr-icon-file-text2'><use xlink:href='#icon-file-text2'></use></svg></label><input id='data-c5e15f27-c243-4f90-94bf-1c992ed34ed3' class='xr-var-data-in' type='checkbox'><label for='data-c5e15f27-c243-4f90-94bf-1c992ed34ed3' title='Show/Hide data repr'><svg class='icon xr-icon-database'><use xlink:href='#icon-database'></use></svg></label><div class='xr-var-attrs'><dl class='xr-attrs'><dt><span>description :</span></dt><dd>days since 1900-01-01</dd><dt><span>long_name :</span></dt><dd>time</dd><dt><span>standard_name :</span></dt><dd>time</dd><dt><span>axis :</span></dt><dd>T</dd></dl></div><div class='xr-var-data'><pre>array([&#x27;1985-01-01T00:00:00.000000000&#x27;, &#x27;1985-02-01T00:00:00.000000000&#x27;,\n",
              "       &#x27;1985-03-01T00:00:00.000000000&#x27;, &#x27;1985-04-01T00:00:00.000000000&#x27;,\n",
              "       &#x27;1985-05-01T00:00:00.000000000&#x27;, &#x27;1985-06-01T00:00:00.000000000&#x27;,\n",
              "       &#x27;1985-07-01T00:00:00.000000000&#x27;, &#x27;1985-08-01T00:00:00.000000000&#x27;,\n",
              "       &#x27;1985-09-01T00:00:00.000000000&#x27;, &#x27;1985-10-01T00:00:00.000000000&#x27;,\n",
              "       &#x27;1985-11-01T00:00:00.000000000&#x27;, &#x27;1985-12-01T00:00:00.000000000&#x27;,\n",
              "       &#x27;1986-01-01T00:00:00.000000000&#x27;, &#x27;1986-02-01T00:00:00.000000000&#x27;,\n",
              "       &#x27;1986-03-01T00:00:00.000000000&#x27;, &#x27;1986-04-01T00:00:00.000000000&#x27;,\n",
              "       &#x27;1986-05-01T00:00:00.000000000&#x27;, &#x27;1986-06-01T00:00:00.000000000&#x27;,\n",
              "       &#x27;1986-07-01T00:00:00.000000000&#x27;, &#x27;1986-08-01T00:00:00.000000000&#x27;,\n",
              "       &#x27;1986-09-01T00:00:00.000000000&#x27;, &#x27;1986-10-01T00:00:00.000000000&#x27;,\n",
              "       &#x27;1986-11-01T00:00:00.000000000&#x27;, &#x27;1986-12-01T00:00:00.000000000&#x27;,\n",
              "       &#x27;1987-01-01T00:00:00.000000000&#x27;, &#x27;1987-02-01T00:00:00.000000000&#x27;,\n",
              "       &#x27;1987-03-01T00:00:00.000000000&#x27;, &#x27;1987-04-01T00:00:00.000000000&#x27;,\n",
              "       &#x27;1987-05-01T00:00:00.000000000&#x27;, &#x27;1987-06-01T00:00:00.000000000&#x27;,\n",
              "       &#x27;1987-07-01T00:00:00.000000000&#x27;, &#x27;1987-08-01T00:00:00.000000000&#x27;,\n",
              "       &#x27;1987-09-01T00:00:00.000000000&#x27;, &#x27;1987-10-01T00:00:00.000000000&#x27;,\n",
              "       &#x27;1987-11-01T00:00:00.000000000&#x27;, &#x27;1987-12-01T00:00:00.000000000&#x27;,\n",
              "       &#x27;1988-01-01T00:00:00.000000000&#x27;, &#x27;1988-02-01T00:00:00.000000000&#x27;,\n",
              "       &#x27;1988-03-01T00:00:00.000000000&#x27;, &#x27;1988-04-01T00:00:00.000000000&#x27;,\n",
              "       &#x27;1988-05-01T00:00:00.000000000&#x27;, &#x27;1988-06-01T00:00:00.000000000&#x27;,\n",
              "       &#x27;1988-07-01T00:00:00.000000000&#x27;, &#x27;1988-08-01T00:00:00.000000000&#x27;,\n",
              "       &#x27;1988-09-01T00:00:00.000000000&#x27;, &#x27;1988-10-01T00:00:00.000000000&#x27;,\n",
              "       &#x27;1988-11-01T00:00:00.000000000&#x27;, &#x27;1988-12-01T00:00:00.000000000&#x27;,\n",
              "       &#x27;1989-01-01T00:00:00.000000000&#x27;, &#x27;1989-02-01T00:00:00.000000000&#x27;,\n",
              "       &#x27;1989-03-01T00:00:00.000000000&#x27;, &#x27;1989-04-01T00:00:00.000000000&#x27;,\n",
              "       &#x27;1989-05-01T00:00:00.000000000&#x27;, &#x27;1989-06-01T00:00:00.000000000&#x27;,\n",
              "       &#x27;1989-07-01T00:00:00.000000000&#x27;, &#x27;1989-08-01T00:00:00.000000000&#x27;,\n",
              "       &#x27;1989-09-01T00:00:00.000000000&#x27;, &#x27;1989-10-01T00:00:00.000000000&#x27;,\n",
              "       &#x27;1989-11-01T00:00:00.000000000&#x27;, &#x27;1989-12-01T00:00:00.000000000&#x27;,\n",
              "       &#x27;1990-01-01T00:00:00.000000000&#x27;, &#x27;1990-02-01T00:00:00.000000000&#x27;,\n",
              "       &#x27;1990-03-01T00:00:00.000000000&#x27;, &#x27;1990-04-01T00:00:00.000000000&#x27;,\n",
              "       &#x27;1990-05-01T00:00:00.000000000&#x27;, &#x27;1990-06-01T00:00:00.000000000&#x27;,\n",
              "       &#x27;1990-07-01T00:00:00.000000000&#x27;, &#x27;1990-08-01T00:00:00.000000000&#x27;,\n",
              "       &#x27;1990-09-01T00:00:00.000000000&#x27;, &#x27;1990-10-01T00:00:00.000000000&#x27;,\n",
              "       &#x27;1990-11-01T00:00:00.000000000&#x27;, &#x27;1990-12-01T00:00:00.000000000&#x27;],\n",
              "      dtype=&#x27;datetime64[ns]&#x27;)</pre></div></li><li class='xr-var-item'><div class='xr-var-name'><span class='xr-has-index'>crs</span></div><div class='xr-var-dims'>(crs)</div><div class='xr-var-dtype'>int16</div><div class='xr-var-preview xr-preview'>3</div><input id='attrs-c8913bf7-3405-4a52-90b5-9b0f81e4120b' class='xr-var-attrs-in' type='checkbox' ><label for='attrs-c8913bf7-3405-4a52-90b5-9b0f81e4120b' title='Show/Hide attributes'><svg class='icon xr-icon-file-text2'><use xlink:href='#icon-file-text2'></use></svg></label><input id='data-7034de23-8a72-45fa-8633-134bf094a46f' class='xr-var-data-in' type='checkbox'><label for='data-7034de23-8a72-45fa-8633-134bf094a46f' title='Show/Hide data repr'><svg class='icon xr-icon-database'><use xlink:href='#icon-database'></use></svg></label><div class='xr-var-attrs'><dl class='xr-attrs'><dt><span>grid_mapping_name :</span></dt><dd>latitude_longitude</dd><dt><span>longitude_of_prime_meridian :</span></dt><dd>0.0</dd><dt><span>semi_major_axis :</span></dt><dd>6378137.0</dd><dt><span>inverse_flattening :</span></dt><dd>298.257223563</dd><dt><span>long_name :</span></dt><dd>crs</dd></dl></div><div class='xr-var-data'><pre>array([3], dtype=int16)</pre></div></li></ul></div></li><li class='xr-section-item'><input id='section-2318e904-7957-45fd-9755-adc496da6807' class='xr-section-summary-in' type='checkbox'  checked><label for='section-2318e904-7957-45fd-9755-adc496da6807' class='xr-section-summary' >Data variables: <span>(1)</span></label><div class='xr-section-inline-details'></div><div class='xr-section-details'><ul class='xr-var-list'><li class='xr-var-item'><div class='xr-var-name'><span>ppt</span></div><div class='xr-var-dims'>(time, lat, lon)</div><div class='xr-var-dtype'>float32</div><div class='xr-var-preview xr-preview'>dask.array&lt;chunksize=(12, 4320, 8640), meta=np.ndarray&gt;</div><input id='attrs-3e6421c2-5d4e-4cfc-bf10-e71fe2529e53' class='xr-var-attrs-in' type='checkbox' ><label for='attrs-3e6421c2-5d4e-4cfc-bf10-e71fe2529e53' title='Show/Hide attributes'><svg class='icon xr-icon-file-text2'><use xlink:href='#icon-file-text2'></use></svg></label><input id='data-63885cf7-9608-4b5a-b6c4-d20a6b4c8de7' class='xr-var-data-in' type='checkbox'><label for='data-63885cf7-9608-4b5a-b6c4-d20a6b4c8de7' title='Show/Hide data repr'><svg class='icon xr-icon-database'><use xlink:href='#icon-database'></use></svg></label><div class='xr-var-attrs'><dl class='xr-attrs'><dt><span>units :</span></dt><dd>mm</dd><dt><span>description :</span></dt><dd>Monthly Accumulated Precipitation</dd><dt><span>grid_mapping :</span></dt><dd>crs</dd><dt><span>coordinate_system :</span></dt><dd>WGS84,EPSG:4326</dd></dl></div><div class='xr-var-data'><table>\n",
              "    <tr>\n",
              "        <td>\n",
              "            <table>\n",
              "                <thead>\n",
              "                    <tr>\n",
              "                        <td> </td>\n",
              "                        <th> Array </th>\n",
              "                        <th> Chunk </th>\n",
              "                    </tr>\n",
              "                </thead>\n",
              "                <tbody>\n",
              "                    \n",
              "                    <tr>\n",
              "                        <th> Bytes </th>\n",
              "                        <td> 10.01 GiB </td>\n",
              "                        <td> 1.67 GiB </td>\n",
              "                    </tr>\n",
              "                    \n",
              "                    <tr>\n",
              "                        <th> Shape </th>\n",
              "                        <td> (72, 4320, 8640) </td>\n",
              "                        <td> (12, 4320, 8640) </td>\n",
              "                    </tr>\n",
              "                    <tr>\n",
              "                        <th> Count </th>\n",
              "                        <td> 18 Tasks </td>\n",
              "                        <td> 6 Chunks </td>\n",
              "                    </tr>\n",
              "                    <tr>\n",
              "                    <th> Type </th>\n",
              "                    <td> float32 </td>\n",
              "                    <td> numpy.ndarray </td>\n",
              "                    </tr>\n",
              "                </tbody>\n",
              "            </table>\n",
              "        </td>\n",
              "        <td>\n",
              "        <svg width=\"194\" height=\"124\" style=\"stroke:rgb(0,0,0);stroke-width:1\" >\n",
              "\n",
              "  <!-- Horizontal lines -->\n",
              "  <line x1=\"10\" y1=\"0\" x2=\"24\" y2=\"14\" style=\"stroke-width:2\" />\n",
              "  <line x1=\"10\" y1=\"60\" x2=\"24\" y2=\"74\" style=\"stroke-width:2\" />\n",
              "\n",
              "  <!-- Vertical lines -->\n",
              "  <line x1=\"10\" y1=\"0\" x2=\"10\" y2=\"60\" style=\"stroke-width:2\" />\n",
              "  <line x1=\"12\" y1=\"2\" x2=\"12\" y2=\"62\" />\n",
              "  <line x1=\"14\" y1=\"4\" x2=\"14\" y2=\"64\" />\n",
              "  <line x1=\"17\" y1=\"7\" x2=\"17\" y2=\"67\" />\n",
              "  <line x1=\"19\" y1=\"9\" x2=\"19\" y2=\"69\" />\n",
              "  <line x1=\"22\" y1=\"12\" x2=\"22\" y2=\"72\" />\n",
              "  <line x1=\"24\" y1=\"14\" x2=\"24\" y2=\"74\" style=\"stroke-width:2\" />\n",
              "\n",
              "  <!-- Colored Rectangle -->\n",
              "  <polygon points=\"10.0,0.0 24.9485979497544,14.948597949754403 24.9485979497544,74.9485979497544 10.0,60.0\" style=\"fill:#ECB172A0;stroke-width:0\"/>\n",
              "\n",
              "  <!-- Horizontal lines -->\n",
              "  <line x1=\"10\" y1=\"0\" x2=\"130\" y2=\"0\" style=\"stroke-width:2\" />\n",
              "  <line x1=\"12\" y1=\"2\" x2=\"132\" y2=\"2\" />\n",
              "  <line x1=\"14\" y1=\"4\" x2=\"134\" y2=\"4\" />\n",
              "  <line x1=\"17\" y1=\"7\" x2=\"137\" y2=\"7\" />\n",
              "  <line x1=\"19\" y1=\"9\" x2=\"139\" y2=\"9\" />\n",
              "  <line x1=\"22\" y1=\"12\" x2=\"142\" y2=\"12\" />\n",
              "  <line x1=\"24\" y1=\"14\" x2=\"144\" y2=\"14\" style=\"stroke-width:2\" />\n",
              "\n",
              "  <!-- Vertical lines -->\n",
              "  <line x1=\"10\" y1=\"0\" x2=\"24\" y2=\"14\" style=\"stroke-width:2\" />\n",
              "  <line x1=\"130\" y1=\"0\" x2=\"144\" y2=\"14\" style=\"stroke-width:2\" />\n",
              "\n",
              "  <!-- Colored Rectangle -->\n",
              "  <polygon points=\"10.0,0.0 130.0,0.0 144.9485979497544,14.948597949754403 24.9485979497544,14.948597949754403\" style=\"fill:#ECB172A0;stroke-width:0\"/>\n",
              "\n",
              "  <!-- Horizontal lines -->\n",
              "  <line x1=\"24\" y1=\"14\" x2=\"144\" y2=\"14\" style=\"stroke-width:2\" />\n",
              "  <line x1=\"24\" y1=\"74\" x2=\"144\" y2=\"74\" style=\"stroke-width:2\" />\n",
              "\n",
              "  <!-- Vertical lines -->\n",
              "  <line x1=\"24\" y1=\"14\" x2=\"24\" y2=\"74\" style=\"stroke-width:2\" />\n",
              "  <line x1=\"144\" y1=\"14\" x2=\"144\" y2=\"74\" style=\"stroke-width:2\" />\n",
              "\n",
              "  <!-- Colored Rectangle -->\n",
              "  <polygon points=\"24.9485979497544,14.948597949754403 144.9485979497544,14.948597949754403 144.9485979497544,74.9485979497544 24.9485979497544,74.9485979497544\" style=\"fill:#ECB172A0;stroke-width:0\"/>\n",
              "\n",
              "  <!-- Text -->\n",
              "  <text x=\"84.948598\" y=\"94.948598\" font-size=\"1.0rem\" font-weight=\"100\" text-anchor=\"middle\" >8640</text>\n",
              "  <text x=\"164.948598\" y=\"44.948598\" font-size=\"1.0rem\" font-weight=\"100\" text-anchor=\"middle\" transform=\"rotate(-90,164.948598,44.948598)\">4320</text>\n",
              "  <text x=\"7.474299\" y=\"87.474299\" font-size=\"1.0rem\" font-weight=\"100\" text-anchor=\"middle\" transform=\"rotate(45,7.474299,87.474299)\">72</text>\n",
              "</svg>\n",
              "        </td>\n",
              "    </tr>\n",
              "</table></div></li></ul></div></li><li class='xr-section-item'><input id='section-b2696f8b-ee0c-4555-9433-370ff498f818' class='xr-section-summary-in' type='checkbox'  ><label for='section-b2696f8b-ee0c-4555-9433-370ff498f818' class='xr-section-summary' >Indexes: <span>(4)</span></label><div class='xr-section-inline-details'></div><div class='xr-section-details'><ul class='xr-var-list'><li class='xr-var-item'><div class='xr-index-name'><div>lat</div></div><div class='xr-index-preview'>PandasIndex</div><div></div><input id='index-67904936-038a-403c-aa5e-f2394388588a' class='xr-index-data-in' type='checkbox'/><label for='index-67904936-038a-403c-aa5e-f2394388588a' title='Show/Hide index repr'><svg class='icon xr-icon-database'><use xlink:href='#icon-database'></use></svg></label><div class='xr-index-data'><pre>PandasIndex(Float64Index([ 89.97916666666667,            89.9375,  89.89583333333334,\n",
              "               89.85416666666667,            89.8125,  89.77083333333334,\n",
              "               89.72916666666667,            89.6875,  89.64583333333334,\n",
              "               89.60416666666667,\n",
              "              ...\n",
              "              -89.60416666666664, -89.64583333333331, -89.68749999999997,\n",
              "              -89.72916666666664, -89.77083333333331, -89.81249999999997,\n",
              "              -89.85416666666664, -89.89583333333331, -89.93749999999997,\n",
              "              -89.97916666666664],\n",
              "             dtype=&#x27;float64&#x27;, name=&#x27;lat&#x27;, length=4320))</pre></div></li><li class='xr-var-item'><div class='xr-index-name'><div>lon</div></div><div class='xr-index-preview'>PandasIndex</div><div></div><input id='index-654f36d3-211d-46d7-889b-a26ac7361fcb' class='xr-index-data-in' type='checkbox'/><label for='index-654f36d3-211d-46d7-889b-a26ac7361fcb' title='Show/Hide index repr'><svg class='icon xr-icon-database'><use xlink:href='#icon-database'></use></svg></label><div class='xr-index-data'><pre>PandasIndex(Float64Index([-179.97916666666666,           -179.9375, -179.89583333333331,\n",
              "              -179.85416666666666,           -179.8125, -179.77083333333331,\n",
              "              -179.72916666666666,           -179.6875, -179.64583333333331,\n",
              "              -179.60416666666666,\n",
              "              ...\n",
              "               179.60416666666666,  179.64583333333331,            179.6875,\n",
              "               179.72916666666666,  179.77083333333331,            179.8125,\n",
              "               179.85416666666666,  179.89583333333331,            179.9375,\n",
              "               179.97916666666666],\n",
              "             dtype=&#x27;float64&#x27;, name=&#x27;lon&#x27;, length=8640))</pre></div></li><li class='xr-var-item'><div class='xr-index-name'><div>time</div></div><div class='xr-index-preview'>PandasIndex</div><div></div><input id='index-0d10f12d-01dc-4987-afe2-d077da659f64' class='xr-index-data-in' type='checkbox'/><label for='index-0d10f12d-01dc-4987-afe2-d077da659f64' title='Show/Hide index repr'><svg class='icon xr-icon-database'><use xlink:href='#icon-database'></use></svg></label><div class='xr-index-data'><pre>PandasIndex(DatetimeIndex([&#x27;1985-01-01&#x27;, &#x27;1985-02-01&#x27;, &#x27;1985-03-01&#x27;, &#x27;1985-04-01&#x27;,\n",
              "               &#x27;1985-05-01&#x27;, &#x27;1985-06-01&#x27;, &#x27;1985-07-01&#x27;, &#x27;1985-08-01&#x27;,\n",
              "               &#x27;1985-09-01&#x27;, &#x27;1985-10-01&#x27;, &#x27;1985-11-01&#x27;, &#x27;1985-12-01&#x27;,\n",
              "               &#x27;1986-01-01&#x27;, &#x27;1986-02-01&#x27;, &#x27;1986-03-01&#x27;, &#x27;1986-04-01&#x27;,\n",
              "               &#x27;1986-05-01&#x27;, &#x27;1986-06-01&#x27;, &#x27;1986-07-01&#x27;, &#x27;1986-08-01&#x27;,\n",
              "               &#x27;1986-09-01&#x27;, &#x27;1986-10-01&#x27;, &#x27;1986-11-01&#x27;, &#x27;1986-12-01&#x27;,\n",
              "               &#x27;1987-01-01&#x27;, &#x27;1987-02-01&#x27;, &#x27;1987-03-01&#x27;, &#x27;1987-04-01&#x27;,\n",
              "               &#x27;1987-05-01&#x27;, &#x27;1987-06-01&#x27;, &#x27;1987-07-01&#x27;, &#x27;1987-08-01&#x27;,\n",
              "               &#x27;1987-09-01&#x27;, &#x27;1987-10-01&#x27;, &#x27;1987-11-01&#x27;, &#x27;1987-12-01&#x27;,\n",
              "               &#x27;1988-01-01&#x27;, &#x27;1988-02-01&#x27;, &#x27;1988-03-01&#x27;, &#x27;1988-04-01&#x27;,\n",
              "               &#x27;1988-05-01&#x27;, &#x27;1988-06-01&#x27;, &#x27;1988-07-01&#x27;, &#x27;1988-08-01&#x27;,\n",
              "               &#x27;1988-09-01&#x27;, &#x27;1988-10-01&#x27;, &#x27;1988-11-01&#x27;, &#x27;1988-12-01&#x27;,\n",
              "               &#x27;1989-01-01&#x27;, &#x27;1989-02-01&#x27;, &#x27;1989-03-01&#x27;, &#x27;1989-04-01&#x27;,\n",
              "               &#x27;1989-05-01&#x27;, &#x27;1989-06-01&#x27;, &#x27;1989-07-01&#x27;, &#x27;1989-08-01&#x27;,\n",
              "               &#x27;1989-09-01&#x27;, &#x27;1989-10-01&#x27;, &#x27;1989-11-01&#x27;, &#x27;1989-12-01&#x27;,\n",
              "               &#x27;1990-01-01&#x27;, &#x27;1990-02-01&#x27;, &#x27;1990-03-01&#x27;, &#x27;1990-04-01&#x27;,\n",
              "               &#x27;1990-05-01&#x27;, &#x27;1990-06-01&#x27;, &#x27;1990-07-01&#x27;, &#x27;1990-08-01&#x27;,\n",
              "               &#x27;1990-09-01&#x27;, &#x27;1990-10-01&#x27;, &#x27;1990-11-01&#x27;, &#x27;1990-12-01&#x27;],\n",
              "              dtype=&#x27;datetime64[ns]&#x27;, name=&#x27;time&#x27;, freq=None))</pre></div></li><li class='xr-var-item'><div class='xr-index-name'><div>crs</div></div><div class='xr-index-preview'>PandasIndex</div><div></div><input id='index-795170ab-6cfa-4e0d-a853-aee5790beebb' class='xr-index-data-in' type='checkbox'/><label for='index-795170ab-6cfa-4e0d-a853-aee5790beebb' title='Show/Hide index repr'><svg class='icon xr-icon-database'><use xlink:href='#icon-database'></use></svg></label><div class='xr-index-data'><pre>PandasIndex(Int64Index([3], dtype=&#x27;int64&#x27;, name=&#x27;crs&#x27;))</pre></div></li></ul></div></li><li class='xr-section-item'><input id='section-436a05db-7d24-4480-8777-1cc012d8cfaf' class='xr-section-summary-in' type='checkbox' disabled ><label for='section-436a05db-7d24-4480-8777-1cc012d8cfaf' class='xr-section-summary'  title='Expand/collapse section'>Attributes: <span>(0)</span></label><div class='xr-section-inline-details'></div><div class='xr-section-details'><dl class='xr-attrs'></dl></div></li></ul></div></div>"
            ]
          },
          "metadata": {},
          "execution_count": 10
        }
      ]
    },
    {
      "cell_type": "markdown",
      "metadata": {
        "id": "W0mFpBJeSfId"
      },
      "source": [
        "### (i) Read and extract monthly precipitation data from netCDF, then save it as a CSV file 💾 "
      ]
    },
    {
      "cell_type": "code",
      "metadata": {
        "id": "VhsGQiE8UTt5"
      },
      "source": [
        "results_path = out_dir + '/results'\n",
        "if not os.path.exists(results_path):\n",
        "  os.makedirs(results_path)\n",
        "\n",
        "p1 = p.sel(lon=Lon,lat=Lat,method='nearest')['ppt'].to_dataframe()\n",
        "p1 = p1.rename(columns ={'ppt':'Past_Precp_(mm/month)'})\n",
        "p2 = p1.rename_axis(\"Month\")\n",
        "p2 = p2[Start_year:End_year]\n",
        "p2 = p2[\"Past_Precp_(mm/month)\"]\n",
        "p2.index= pd.to_datetime(p2.index, format = '%m/%Y').strftime('%Y-%m')\n",
        "print(p2.head())\n",
        "p2.to_csv(results_path+'/Historical_Monthly_Prep_%s_%s.csv' % (Start_year, End_year))\n",
        "\n",
        "\n",
        "f1 = f.sel(lon=Lon,lat=Lat,method='nearest')['ppt'].to_dataframe()\n",
        "f1 = f1.rename(columns = {'ppt':'Projected(+4C_warming)_Precp_(mm/month)'})\n",
        "\n",
        "result = pd.merge(p1, f1, on=[\"time\"])\n",
        "result.reset_index(inplace=True)\n",
        "result['time']= result['time'].dt.to_period('M')\n",
        "result = result.rename(columns = {'time':'Month'})\n",
        "result = result[[\"Month\",\"Past_Precp_(mm/month)\",\"Projected(+4C_warming)_Precp_(mm/month)\"]]\n",
        "print(result.head())\n",
        "result.to_csv(results_path+'/ClimateChange_Monthly_Prep_%s_%s.csv' % (Start_year2, End_year2), index = False)"
      ],
      "execution_count": null,
      "outputs": []
    },
    {
      "cell_type": "markdown",
      "metadata": {
        "id": "BiVzALs3fB1o"
      },
      "source": [
        "### (ii) Calculate yearly total precipitation data, then save it as a CSV file 📁"
      ]
    },
    {
      "cell_type": "code",
      "metadata": {
        "id": "CmMF4_AZgmOC",
        "colab": {
          "base_uri": "https://localhost:8080/",
          "height": 235
        },
        "outputId": "5e7d69e2-0253-42e9-b19d-b2f10e16ef7d"
      },
      "source": [
        "monthly_p = pd.read_csv(results_path+'/Historical_Monthly_Prep_%s_%s.csv' % (Start_year, End_year))\n",
        "monthly_p = monthly_p.rename(columns = {'Month':'Year','Past_Precp_(mm/month)':'Past_Precp_(mm/yr)'})\n",
        "monthly_p.Year = pd.to_datetime(monthly_p.Year)\n",
        "yearly_p = monthly_p.resample('Y',on='Year').sum()\n",
        "yearly_p.reset_index(inplace=True)\n",
        "yearly_p['Year']= yearly_p['Year'].dt.to_period('Y')\n",
        "print(yearly_p.head())\n",
        "yearly_p.to_csv(results_path+'/Historical_Yearly_Prep_%s_%s.csv' % (Start_year, End_year), index = False)\n",
        "\n",
        "monthly_cc = pd.read_csv(results_path+'/ClimateChange_Monthly_Prep_%s_%s.csv' % (Start_year2, End_year2))\n",
        "monthly_cc = monthly_cc.rename(columns = {'Month':'Year','Past_Precp_(mm/month)':'Past_Precp_(mm/yr)','Projected(+4C_warming)_Precp_(mm/month)':'Projected(+4C_warming)_Precp_(mm/yr)'})\n",
        "monthly_cc.Year = pd.to_datetime(monthly_cc.Year)\n",
        "yearly_cc = monthly_cc.resample('Y',on='Year').sum()\n",
        "yearly_cc.reset_index(inplace=True)\n",
        "yearly_cc['Year']= yearly_cc['Year'].dt.to_period('Y')\n",
        "print(yearly_cc.head())\n",
        "yearly_cc.to_csv(results_path+'/ClimateChange_Yearly_Prep_%s_%s.csv' % (Start_year2, End_year2), index = False)"
      ],
      "execution_count": null,
      "outputs": [
        {
          "output_type": "error",
          "ename": "NameError",
          "evalue": "ignored",
          "traceback": [
            "\u001b[0;31m---------------------------------------------------------------------------\u001b[0m",
            "\u001b[0;31mNameError\u001b[0m                                 Traceback (most recent call last)",
            "\u001b[0;32m<ipython-input-1-48e684bf0b63>\u001b[0m in \u001b[0;36m<module>\u001b[0;34m\u001b[0m\n\u001b[0;32m----> 1\u001b[0;31m \u001b[0mmonthly_p\u001b[0m \u001b[0;34m=\u001b[0m \u001b[0mpd\u001b[0m\u001b[0;34m.\u001b[0m\u001b[0mread_csv\u001b[0m\u001b[0;34m(\u001b[0m\u001b[0mresults_path\u001b[0m\u001b[0;34m+\u001b[0m\u001b[0;34m'/Historical_Monthly_Prep_%s_%s.csv'\u001b[0m \u001b[0;34m%\u001b[0m \u001b[0;34m(\u001b[0m\u001b[0mStart_year\u001b[0m\u001b[0;34m,\u001b[0m \u001b[0mEnd_year\u001b[0m\u001b[0;34m)\u001b[0m\u001b[0;34m)\u001b[0m\u001b[0;34m\u001b[0m\u001b[0;34m\u001b[0m\u001b[0m\n\u001b[0m\u001b[1;32m      2\u001b[0m \u001b[0mmonthly_p\u001b[0m \u001b[0;34m=\u001b[0m \u001b[0mmonthly_p\u001b[0m\u001b[0;34m.\u001b[0m\u001b[0mrename\u001b[0m\u001b[0;34m(\u001b[0m\u001b[0mcolumns\u001b[0m \u001b[0;34m=\u001b[0m \u001b[0;34m{\u001b[0m\u001b[0;34m'Month'\u001b[0m\u001b[0;34m:\u001b[0m\u001b[0;34m'Year'\u001b[0m\u001b[0;34m,\u001b[0m\u001b[0;34m'Past_Precp_(mm/month)'\u001b[0m\u001b[0;34m:\u001b[0m\u001b[0;34m'Past_Precp_(mm/yr)'\u001b[0m\u001b[0;34m}\u001b[0m\u001b[0;34m)\u001b[0m\u001b[0;34m\u001b[0m\u001b[0;34m\u001b[0m\u001b[0m\n\u001b[1;32m      3\u001b[0m \u001b[0mmonthly_p\u001b[0m\u001b[0;34m.\u001b[0m\u001b[0mYear\u001b[0m \u001b[0;34m=\u001b[0m \u001b[0mpd\u001b[0m\u001b[0;34m.\u001b[0m\u001b[0mto_datetime\u001b[0m\u001b[0;34m(\u001b[0m\u001b[0mmonthly_p\u001b[0m\u001b[0;34m.\u001b[0m\u001b[0mYear\u001b[0m\u001b[0;34m)\u001b[0m\u001b[0;34m\u001b[0m\u001b[0;34m\u001b[0m\u001b[0m\n\u001b[1;32m      4\u001b[0m \u001b[0myearly_p\u001b[0m \u001b[0;34m=\u001b[0m \u001b[0mmonthly_p\u001b[0m\u001b[0;34m.\u001b[0m\u001b[0mresample\u001b[0m\u001b[0;34m(\u001b[0m\u001b[0;34m'Y'\u001b[0m\u001b[0;34m,\u001b[0m\u001b[0mon\u001b[0m\u001b[0;34m=\u001b[0m\u001b[0;34m'Year'\u001b[0m\u001b[0;34m)\u001b[0m\u001b[0;34m.\u001b[0m\u001b[0msum\u001b[0m\u001b[0;34m(\u001b[0m\u001b[0;34m)\u001b[0m\u001b[0;34m\u001b[0m\u001b[0;34m\u001b[0m\u001b[0m\n\u001b[1;32m      5\u001b[0m \u001b[0myearly_p\u001b[0m\u001b[0;34m.\u001b[0m\u001b[0mreset_index\u001b[0m\u001b[0;34m(\u001b[0m\u001b[0minplace\u001b[0m\u001b[0;34m=\u001b[0m\u001b[0;32mTrue\u001b[0m\u001b[0;34m)\u001b[0m\u001b[0;34m\u001b[0m\u001b[0;34m\u001b[0m\u001b[0m\n",
            "\u001b[0;31mNameError\u001b[0m: name 'pd' is not defined"
          ]
        }
      ]
    },
    {
      "cell_type": "markdown",
      "metadata": {
        "id": "_970OQgRgIir"
      },
      "source": [
        "## Step 6: Visualize how precipitation has been changing over the years in your location of interest"
      ]
    },
    {
      "cell_type": "markdown",
      "metadata": {
        "id": "euDb3IwoRmGZ"
      },
      "source": [
        "### (i) Time-serie plot for historical precipitation over the year in location of interest 📊📊📊"
      ]
    },
    {
      "cell_type": "code",
      "metadata": {
        "id": "bh9HpHLMXAqs",
        "colab": {
          "base_uri": "https://localhost:8080/",
          "height": 679
        },
        "outputId": "d8853724-7bf0-420c-b9db-b15b3f5df3e4"
      },
      "source": [
        "monthly_data = pd.read_csv(results_path+'/Historical_Monthly_Prep_'+Start_year+'_'+End_year+'.csv')\n",
        "monthly_data.insert(0, 'ID', np.arange(len(monthly_data)) + 1)\n",
        "monthly_data.Month = pd.to_datetime(monthly_data.Month)\n",
        "x1_m=monthly_data.ID\n",
        "y1_m=monthly_data['Past_Precp_(mm/month)']\n",
        "xdate1_m = [x.date() for x in monthly_data.Month]\n",
        "slope1, intercept1, r_value1, p_value1, std_err1 = linregress(x1_m, y1_m)\n",
        "  \n",
        "plot_monthly=plt.figure(figsize=(15, 5))\n",
        "bar1 = plt.bar(xdate1_m, y1_m, 15, label='Past Precipitation')\n",
        "line1 = plt.plot(xdate1_m, intercept1 + slope1*x1_m, 'r', label='Trend of past precipitation')\n",
        "plt.gcf().autofmt_xdate()\n",
        "plt.xlabel('Month', fontsize = 14)\n",
        "plt.ylabel('Precipitation (mm/month)', fontsize = 14)\n",
        "plt.title('Monthly Historical Precipitation (mm/month) for Selected Location (lat: %s, lon: %s)'%(Lat, Lon), fontsize = 16)\n",
        "plt.legend()\n",
        "plot_monthly.show()\n",
        "\n",
        "\n",
        "yearly_data = pd.read_csv(results_path+'/Historical_Yearly_Prep_'+Start_year+'_'+End_year+'.csv')\n",
        "yearly_data.insert(0, 'ID', np.arange(len(yearly_data)) + 1)\n",
        "x1_y=yearly_data.ID\n",
        "y1_y=yearly_data['Past_Precp_(mm/yr)']\n",
        "xdate1_y = yearly_data.Year\n",
        "slope3, intercept3, r_value3, p_value3, std_err3 = linregress(x1_y, y1_y)\n",
        "  \n",
        "plot_yearly=plt.figure(figsize=(15, 5))\n",
        "bar1 = plt.bar(xdate1_y, y1_y, 0.5, label='Past Precipitation')\n",
        "line1 = plt.plot(xdate1_y, intercept3 + slope3*x1_y, 'r', label='Trend of past precipitation')\n",
        "plt.xlabel('Year', fontsize = 14)\n",
        "plt.ylabel('Precipitation (mm)', fontsize = 14)\n",
        "plt.title('Yearly Historical Precipitation (mm/yr) for Selected Location (lat: %s, lon: %s)'%(Lat, Lon), fontsize = 16)\n",
        "plt.legend()\n",
        "plot_yearly.show()"
      ],
      "execution_count": null,
      "outputs": [
        {
          "output_type": "display_data",
          "data": {
            "text/plain": [
              "<Figure size 1080x360 with 1 Axes>"
            ],
            "image/png": "[encoded data removed]"
          },
          "metadata": {
            "needs_background": "light"
          }
        },
        {
          "output_type": "display_data",
          "data": {
            "text/plain": [
              "<Figure size 1080x360 with 1 Axes>"
            ],
            "image/png": "[encoded data removed]"
          },
          "metadata": {
            "needs_background": "light"
          }
        }
      ]
    },
    {
      "cell_type": "markdown",
      "metadata": {
        "id": "pO-D_-FPRrL5"
      },
      "source": [
        "### (ii) Comparison of historical and projected (+4C warming) preciptiation over the years in location of interest 🗺️📍"
      ]
    },
    {
      "cell_type": "code",
      "metadata": {
        "id": "GH_KwtfA7VkN",
        "colab": {
          "base_uri": "https://localhost:8080/",
          "height": 1000
        },
        "outputId": "0f831fa2-cea0-4112-b3a9-0bd4915e12e3"
      },
      "source": [
        "from matplotlib import ticker\n",
        "\n",
        "comparem_data = pd.read_csv(results_path+'/ClimateChange_Monthly_Prep_'+Start_year2+'_'+End_year2+'.csv')\n",
        "f2 = comparem_data.set_index('Month')\n",
        "\n",
        "plot_comparem = plt.figure(figsize=(15, 8)) \n",
        "ax_m = plot_comparem.add_subplot() \n",
        "width = 0.3\n",
        "f2['Past_Precp_(mm/month)'].plot(kind='bar', color='red', ax=ax_m, width=width, position=1)\n",
        "f2['Projected(+4C_warming)_Precp_(mm/month)'].plot(kind='bar', color='blue', ax=ax_m, width=width, position=0)\n",
        "\n",
        "plt.xlabel('Month', fontsize = 14)\n",
        "plt.ylabel('Precipitation (mm/month)', fontsize = 14)\n",
        "plt.title('Monthly precipitation (mm/month) for Climate Change in location of interest (lat: %s, lon: %s)'%(Lat, Lon), fontsize = 16)\n",
        "plt.legend()\n",
        "plot_comparem.show()\n",
        "\n",
        "\n",
        "comparey_data = pd.read_csv(results_path+'/ClimateChange_Yearly_Prep_'+Start_year2+'_'+End_year2+'.csv')\n",
        "comparey_data['Year']=comparey_data['Year'].astype(str)\n",
        "f3 = comparey_data.set_index('Year')\n",
        "\n",
        "plot_comparey = plt.figure(figsize=(15, 8)) \n",
        "ax_y = plot_comparey.add_subplot() \n",
        "width = 0.2\n",
        "f3['Past_Precp_(mm/yr)'].plot(kind='bar', color='red', ax=ax_y, width=width, position=1)\n",
        "f3['Projected(+4C_warming)_Precp_(mm/yr)'].plot(kind='bar', color='blue', ax=ax_y, width=width, position=0)\n",
        "ax_y.tick_params(axis='x', labelrotation=45)\n",
        "plt.xlabel('Year', fontsize = 14)\n",
        "plt.ylabel('Precipitation (mm/yr)', fontsize = 14)\n",
        "plt.title('Yearly precipitation (mm/yr) for Climate Change in location of interest (lat: %s, lon: %s)'%(Lat, Lon), fontsize = 16)\n",
        "plt.legend()\n",
        "plot_comparey.show()"
      ],
      "execution_count": null,
      "outputs": [
        {
          "output_type": "display_data",
          "data": {
            "text/plain": [
              "<Figure size 1080x576 with 1 Axes>"
            ],
            "image/png": "[encoded data removed]"
          },
          "metadata": {
            "needs_background": "light"
          }
        },
        {
          "output_type": "display_data",
          "data": {
            "text/plain": [
              "<Figure size 1080x576 with 1 Axes>"
            ],
            "image/png": "[encoded data removed]"
          },
          "metadata": {
            "needs_background": "light"
          }
        }
      ]
    },
    {
      "cell_type": "markdown",
      "metadata": {
        "id": "2_RnTYbNcykj"
      },
      "source": [
        "## Step 7: Performing statistical analysis of climate change 🖩\n"
      ]
    },
    {
      "cell_type": "code",
      "metadata": {
        "id": "gdQEqDEIPMCk",
        "colab": {
          "base_uri": "https://localhost:8080/"
        },
        "outputId": "bdb7bf9d-fd88-4b06-eb38-69fa50a109af"
      },
      "source": [
        "monthly_data = pd.read_csv(results_path+'/ClimateChange_Monthly_Prep_'+Start_year2+'_'+End_year2+'.csv')\n",
        "def esc(code):\n",
        "    return f'\\033[{code}m'\n",
        "print(esc('31;1;4') + 'Summary statistics of monthly precipitation'+ esc(0))\n",
        "print(monthly_data.agg(\n",
        "    {\"Past_Precp_(mm/month)\":[\"count\",\"mean\",\"std\",\"min\",\"max\"],\n",
        "     \"Projected(+4C_warming)_Precp_(mm/month)\":[\"count\",\"mean\",\"std\",\"min\",\"max\"]\n",
        "     }))\n",
        "\n",
        "\n",
        "yearly_data = pd.read_csv(results_path+'/ClimateChange_Yearly_Prep_'+Start_year2+'_'+End_year2+'.csv')\n",
        "def esc(code):\n",
        "    return f'\\033[{code}m'\n",
        "print(esc('31;1;4') + 'Summary statistics of yearly precipitation'+ esc(0))\n",
        "print(yearly_data.agg(\n",
        "    {\"Past_Precp_(mm/yr)\":[\"count\",\"mean\",\"std\",\"min\",\"max\"],\n",
        "     \"Projected(+4C_warming)_Precp_(mm/yr)\":[\"count\",\"mean\",\"std\",\"min\",\"max\"]\n",
        "     }))"
      ],
      "execution_count": null,
      "outputs": [
        {
          "output_type": "stream",
          "name": "stdout",
          "text": [
            "\u001b[31;1;4mSummary statistics of monthly precipitation\u001b[0m\n",
            "       Past_Precp_(mm/month)  Projected(+4C_warming)_Precp_(mm/month)\n",
            "count              72.000000                                72.000000\n",
            "mean               46.934722                                44.236111\n",
            "std                37.666263                                36.708019\n",
            "min                 1.600000                                 1.000000\n",
            "max               163.700000                               166.000000\n",
            "\u001b[31;1;4mSummary statistics of yearly precipitation\u001b[0m\n",
            "       Past_Precp_(mm/yr)  Projected(+4C_warming)_Precp_(mm/yr)\n",
            "count            6.000000                              6.000000\n",
            "mean           563.216667                            530.833333\n",
            "std            181.992389                            181.614335\n",
            "min            358.700000                            328.000000\n",
            "max            880.200000                            848.000000\n"
          ]
        }
      ]
    },
    {
      "cell_type": "markdown",
      "metadata": {
        "id": "WD9GSN2AltZG"
      },
      "source": [
        "## Step 8: Download four CSV files (monthly and yearly historical and projected precipitation data) and time-series plots to the local computer 🚩"
      ]
    },
    {
      "cell_type": "code",
      "metadata": {
        "id": "7HbSBARcksJ4"
      },
      "source": [
        "pp = PdfPages(results_path+'/Time-series_Plots.pdf')\n",
        "plot_monthly.savefig(pp, format='pdf')\n",
        "plot_yearly.savefig(pp, format='pdf')\n",
        "plot_comparem.savefig(pp, format='pdf')\n",
        "plot_comparey.savefig(pp, format='pdf')\n",
        "pp.close()"
      ],
      "execution_count": null,
      "outputs": []
    },
    {
      "cell_type": "code",
      "metadata": {
        "colab": {
          "base_uri": "https://localhost:8080/"
        },
        "id": "pEou9d7pkKFi",
        "outputId": "9f85f629-9cd2-48b7-e58e-6cb0e19520b9"
      },
      "source": [
        "!zip -r /content/project/results.zip /content/project/results"
      ],
      "execution_count": null,
      "outputs": [
        {
          "output_type": "stream",
          "name": "stdout",
          "text": [
            "  adding: content/project/results/ (stored 0%)\n",
            "  adding: content/project/results/ClimateChange_Monthly_Prep_2010_2015.csv (deflated 68%)\n",
            "  adding: content/project/results/Time-series_Plots.pdf (deflated 23%)\n",
            "  adding: content/project/results/ClimateChange_Yearly_Prep_2010_2015.csv (deflated 32%)\n",
            "  adding: content/project/results/Historical_Yearly_Prep_2010_2015.csv (deflated 26%)\n",
            "  adding: content/project/results/Historical_Monthly_Prep_2010_2015.csv (deflated 69%)\n"
          ]
        }
      ]
    },
    {
      "cell_type": "code",
      "metadata": {
        "colab": {
          "base_uri": "https://localhost:8080/",
          "height": 17
        },
        "id": "6WdgU0VB-yyi",
        "outputId": "f7700b10-580b-42a6-eb8a-59844a64ce69"
      },
      "source": [
        "files.download('/content/project/results.zip')"
      ],
      "execution_count": null,
      "outputs": [
        {
          "output_type": "display_data",
          "data": {
            "text/plain": [
              "<IPython.core.display.Javascript object>"
            ],
            "application/javascript": [
              "\n",
              "    async function download(id, filename, size) {\n",
              "      if (!google.colab.kernel.accessAllowed) {\n",
              "        return;\n",
              "      }\n",
              "      const div = document.createElement('div');\n",
              "      const label = document.createElement('label');\n",
              "      label.textContent = `Downloading \"${filename}\": `;\n",
              "      div.appendChild(label);\n",
              "      const progress = document.createElement('progress');\n",
              "      progress.max = size;\n",
              "      div.appendChild(progress);\n",
              "      document.body.appendChild(div);\n",
              "\n",
              "      const buffers = [];\n",
              "      let downloaded = 0;\n",
              "\n",
              "      const channel = await google.colab.kernel.comms.open(id);\n",
              "      // Send a message to notify the kernel that we're ready.\n",
              "      channel.send({})\n",
              "\n",
              "      for await (const message of channel.messages) {\n",
              "        // Send a message to notify the kernel that we're ready.\n",
              "        channel.send({})\n",
              "        if (message.buffers) {\n",
              "          for (const buffer of message.buffers) {\n",
              "            buffers.push(buffer);\n",
              "            downloaded += buffer.byteLength;\n",
              "            progress.value = downloaded;\n",
              "          }\n",
              "        }\n",
              "      }\n",
              "      const blob = new Blob(buffers, {type: 'application/binary'});\n",
              "      const a = document.createElement('a');\n",
              "      a.href = window.URL.createObjectURL(blob);\n",
              "      a.download = filename;\n",
              "      div.appendChild(a);\n",
              "      a.click();\n",
              "      div.remove();\n",
              "    }\n",
              "  "
            ]
          },
          "metadata": {}
        },
        {
          "output_type": "display_data",
          "data": {
            "text/plain": [
              "<IPython.core.display.Javascript object>"
            ],
            "application/javascript": [
              "download(\"download_4d396449-d229-412b-92ab-d91a0c72580a\", \"results.zip\", 25346)"
            ]
          },
          "metadata": {}
        }
      ]
    },
    {
      "cell_type": "markdown",
      "source": [
        "Kudos, you did it! ✨"
      ],
      "metadata": {
        "id": "PGn_AXIrsD--"
      }
    }
  ]
}