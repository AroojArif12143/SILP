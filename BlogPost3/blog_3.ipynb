{
  "cells": [
    {
      "cell_type": "markdown",
      "metadata": {
        "id": "fvAookSWSiul"
      },
      "source": [
        "# Pakistan's Annual Rainfall Data Visualiation\n",
        " <img src=\"https://drive.google.com/uc?id=<https://drive.google.com/file/d/1VmjJ9GYRy7FdX4Y1E_-brMqHi7nxWJ0m/view?usp=share_link>\">"
      ],
      "id": "fvAookSWSiul"
    },
    {
      "cell_type": "code",
      "execution_count": null,
      "metadata": {
        "id": "BbhHyrHvSiut"
      },
      "outputs": [],
      "source": [
        "#\"./content/1.jpeg\"   style=\"width:600px;height:200px;\"\n",
        "import numpy as np #123\n",
        "import matplotlib.pyplot as plt\n",
        "import pandas as pd\n",
        "import seaborn as sns"
      ],
      "id": "BbhHyrHvSiut"
    },
    {
      "cell_type": "markdown",
      "metadata": {
        "id": "HeqrHCqgSiuu"
      },
      "source": [
        "# 🌧 Reading the spreadsheet file of our dataset and storing it in a pandas dataframe \n"
      ],
      "id": "HeqrHCqgSiuu"
    },
    {
      "cell_type": "code",
      "execution_count": null,
      "metadata": {
        "id": "i2HY3qj9Siuw",
        "outputId": "b73c3e86-e0c6-4b32-fafe-b36cf8ed0279",
        "colab": {
          "base_uri": "https://localhost:8080/",
          "height": 1000
        }
      },
      "outputs": [
        {
          "output_type": "execute_result",
          "data": {
            "text/plain": [
              "    Year  RainFall Mean ()\n",
              "0   1960         22.968764\n",
              "1   1961         30.017449\n",
              "2   1962         22.300155\n",
              "3   1963         18.846562\n",
              "4   1964         25.169663\n",
              "5   1965         24.451258\n",
              "6   1966         22.548259\n",
              "7   1967         31.156436\n",
              "8   1968         18.005987\n",
              "9   1969         18.716057\n",
              "10  1970         25.773367\n",
              "11  1971         17.028849\n",
              "12  1972         22.923497\n",
              "13  1973         26.464568\n",
              "14  1974         17.776723\n",
              "15  1975         30.501123\n",
              "16  1976         33.653086\n",
              "17  1977         24.605184\n",
              "18  1978         31.130028\n",
              "19  1979         27.368945\n",
              "20  1980         24.896617\n",
              "21  1981         27.628438\n",
              "22  1982         30.518638\n",
              "23  1983         31.638481\n",
              "24  1984         23.496383\n",
              "25  1985         20.793768\n",
              "26  1986         29.117307\n",
              "27  1987         19.935799\n",
              "28  1988         26.936088\n",
              "29  1989         26.215842\n",
              "30  1990         32.242762\n",
              "31  1991         24.050541\n",
              "32  1992         31.548378\n",
              "33  1993         20.733389\n",
              "34  1994         35.272982\n",
              "35  1995         29.386670\n",
              "36  1996         28.554229\n",
              "37  1997         30.677396\n",
              "38  1998         25.076168\n",
              "39  1999         21.135063\n",
              "40  2000         15.983080\n",
              "41  2001         19.488182\n",
              "42  2002         17.455713\n",
              "43  2003         32.173924\n",
              "44  2004         21.477698\n",
              "45  2005         26.974240\n",
              "46  2006         30.470729\n",
              "47  2007         26.539996\n",
              "48  2008         28.102989\n",
              "49  2009         23.550433\n",
              "50  2010         32.079900\n",
              "51  2011         26.790030\n",
              "52  2012         22.835234\n",
              "53  2013         29.153537\n",
              "54  2014         22.957235\n",
              "55  2015         33.140839\n",
              "56  2016         23.913655"
            ],
            "text/html": [
              "\n",
              "  <div id=\"df-95095dd4-58b7-49a4-8f41-f67f5ab0158f\">\n",
              "    <div class=\"colab-df-container\">\n",
              "      <div>\n",
              "<style scoped>\n",
              "    .dataframe tbody tr th:only-of-type {\n",
              "        vertical-align: middle;\n",
              "    }\n",
              "\n",
              "    .dataframe tbody tr th {\n",
              "        vertical-align: top;\n",
              "    }\n",
              "\n",
              "    .dataframe thead th {\n",
              "        text-align: right;\n",
              "    }\n",
              "</style>\n",
              "<table border=\"1\" class=\"dataframe\">\n",
              "  <thead>\n",
              "    <tr style=\"text-align: right;\">\n",
              "      <th></th>\n",
              "      <th>Year</th>\n",
              "      <th>RainFall Mean ()</th>\n",
              "    </tr>\n",
              "  </thead>\n",
              "  <tbody>\n",
              "    <tr>\n",
              "      <th>0</th>\n",
              "      <td>1960</td>\n",
              "      <td>22.968764</td>\n",
              "    </tr>\n",
              "    <tr>\n",
              "      <th>1</th>\n",
              "      <td>1961</td>\n",
              "      <td>30.017449</td>\n",
              "    </tr>\n",
              "    <tr>\n",
              "      <th>2</th>\n",
              "      <td>1962</td>\n",
              "      <td>22.300155</td>\n",
              "    </tr>\n",
              "    <tr>\n",
              "      <th>3</th>\n",
              "      <td>1963</td>\n",
              "      <td>18.846562</td>\n",
              "    </tr>\n",
              "    <tr>\n",
              "      <th>4</th>\n",
              "      <td>1964</td>\n",
              "      <td>25.169663</td>\n",
              "    </tr>\n",
              "    <tr>\n",
              "      <th>5</th>\n",
              "      <td>1965</td>\n",
              "      <td>24.451258</td>\n",
              "    </tr>\n",
              "    <tr>\n",
              "      <th>6</th>\n",
              "      <td>1966</td>\n",
              "      <td>22.548259</td>\n",
              "    </tr>\n",
              "    <tr>\n",
              "      <th>7</th>\n",
              "      <td>1967</td>\n",
              "      <td>31.156436</td>\n",
              "    </tr>\n",
              "    <tr>\n",
              "      <th>8</th>\n",
              "      <td>1968</td>\n",
              "      <td>18.005987</td>\n",
              "    </tr>\n",
              "    <tr>\n",
              "      <th>9</th>\n",
              "      <td>1969</td>\n",
              "      <td>18.716057</td>\n",
              "    </tr>\n",
              "    <tr>\n",
              "      <th>10</th>\n",
              "      <td>1970</td>\n",
              "      <td>25.773367</td>\n",
              "    </tr>\n",
              "    <tr>\n",
              "      <th>11</th>\n",
              "      <td>1971</td>\n",
              "      <td>17.028849</td>\n",
              "    </tr>\n",
              "    <tr>\n",
              "      <th>12</th>\n",
              "      <td>1972</td>\n",
              "      <td>22.923497</td>\n",
              "    </tr>\n",
              "    <tr>\n",
              "      <th>13</th>\n",
              "      <td>1973</td>\n",
              "      <td>26.464568</td>\n",
              "    </tr>\n",
              "    <tr>\n",
              "      <th>14</th>\n",
              "      <td>1974</td>\n",
              "      <td>17.776723</td>\n",
              "    </tr>\n",
              "    <tr>\n",
              "      <th>15</th>\n",
              "      <td>1975</td>\n",
              "      <td>30.501123</td>\n",
              "    </tr>\n",
              "    <tr>\n",
              "      <th>16</th>\n",
              "      <td>1976</td>\n",
              "      <td>33.653086</td>\n",
              "    </tr>\n",
              "    <tr>\n",
              "      <th>17</th>\n",
              "      <td>1977</td>\n",
              "      <td>24.605184</td>\n",
              "    </tr>\n",
              "    <tr>\n",
              "      <th>18</th>\n",
              "      <td>1978</td>\n",
              "      <td>31.130028</td>\n",
              "    </tr>\n",
              "    <tr>\n",
              "      <th>19</th>\n",
              "      <td>1979</td>\n",
              "      <td>27.368945</td>\n",
              "    </tr>\n",
              "    <tr>\n",
              "      <th>20</th>\n",
              "      <td>1980</td>\n",
              "      <td>24.896617</td>\n",
              "    </tr>\n",
              "    <tr>\n",
              "      <th>21</th>\n",
              "      <td>1981</td>\n",
              "      <td>27.628438</td>\n",
              "    </tr>\n",
              "    <tr>\n",
              "      <th>22</th>\n",
              "      <td>1982</td>\n",
              "      <td>30.518638</td>\n",
              "    </tr>\n",
              "    <tr>\n",
              "      <th>23</th>\n",
              "      <td>1983</td>\n",
              "      <td>31.638481</td>\n",
              "    </tr>\n",
              "    <tr>\n",
              "      <th>24</th>\n",
              "      <td>1984</td>\n",
              "      <td>23.496383</td>\n",
              "    </tr>\n",
              "    <tr>\n",
              "      <th>25</th>\n",
              "      <td>1985</td>\n",
              "      <td>20.793768</td>\n",
              "    </tr>\n",
              "    <tr>\n",
              "      <th>26</th>\n",
              "      <td>1986</td>\n",
              "      <td>29.117307</td>\n",
              "    </tr>\n",
              "    <tr>\n",
              "      <th>27</th>\n",
              "      <td>1987</td>\n",
              "      <td>19.935799</td>\n",
              "    </tr>\n",
              "    <tr>\n",
              "      <th>28</th>\n",
              "      <td>1988</td>\n",
              "      <td>26.936088</td>\n",
              "    </tr>\n",
              "    <tr>\n",
              "      <th>29</th>\n",
              "      <td>1989</td>\n",
              "      <td>26.215842</td>\n",
              "    </tr>\n",
              "    <tr>\n",
              "      <th>30</th>\n",
              "      <td>1990</td>\n",
              "      <td>32.242762</td>\n",
              "    </tr>\n",
              "    <tr>\n",
              "      <th>31</th>\n",
              "      <td>1991</td>\n",
              "      <td>24.050541</td>\n",
              "    </tr>\n",
              "    <tr>\n",
              "      <th>32</th>\n",
              "      <td>1992</td>\n",
              "      <td>31.548378</td>\n",
              "    </tr>\n",
              "    <tr>\n",
              "      <th>33</th>\n",
              "      <td>1993</td>\n",
              "      <td>20.733389</td>\n",
              "    </tr>\n",
              "    <tr>\n",
              "      <th>34</th>\n",
              "      <td>1994</td>\n",
              "      <td>35.272982</td>\n",
              "    </tr>\n",
              "    <tr>\n",
              "      <th>35</th>\n",
              "      <td>1995</td>\n",
              "      <td>29.386670</td>\n",
              "    </tr>\n",
              "    <tr>\n",
              "      <th>36</th>\n",
              "      <td>1996</td>\n",
              "      <td>28.554229</td>\n",
              "    </tr>\n",
              "    <tr>\n",
              "      <th>37</th>\n",
              "      <td>1997</td>\n",
              "      <td>30.677396</td>\n",
              "    </tr>\n",
              "    <tr>\n",
              "      <th>38</th>\n",
              "      <td>1998</td>\n",
              "      <td>25.076168</td>\n",
              "    </tr>\n",
              "    <tr>\n",
              "      <th>39</th>\n",
              "      <td>1999</td>\n",
              "      <td>21.135063</td>\n",
              "    </tr>\n",
              "    <tr>\n",
              "      <th>40</th>\n",
              "      <td>2000</td>\n",
              "      <td>15.983080</td>\n",
              "    </tr>\n",
              "    <tr>\n",
              "      <th>41</th>\n",
              "      <td>2001</td>\n",
              "      <td>19.488182</td>\n",
              "    </tr>\n",
              "    <tr>\n",
              "      <th>42</th>\n",
              "      <td>2002</td>\n",
              "      <td>17.455713</td>\n",
              "    </tr>\n",
              "    <tr>\n",
              "      <th>43</th>\n",
              "      <td>2003</td>\n",
              "      <td>32.173924</td>\n",
              "    </tr>\n",
              "    <tr>\n",
              "      <th>44</th>\n",
              "      <td>2004</td>\n",
              "      <td>21.477698</td>\n",
              "    </tr>\n",
              "    <tr>\n",
              "      <th>45</th>\n",
              "      <td>2005</td>\n",
              "      <td>26.974240</td>\n",
              "    </tr>\n",
              "    <tr>\n",
              "      <th>46</th>\n",
              "      <td>2006</td>\n",
              "      <td>30.470729</td>\n",
              "    </tr>\n",
              "    <tr>\n",
              "      <th>47</th>\n",
              "      <td>2007</td>\n",
              "      <td>26.539996</td>\n",
              "    </tr>\n",
              "    <tr>\n",
              "      <th>48</th>\n",
              "      <td>2008</td>\n",
              "      <td>28.102989</td>\n",
              "    </tr>\n",
              "    <tr>\n",
              "      <th>49</th>\n",
              "      <td>2009</td>\n",
              "      <td>23.550433</td>\n",
              "    </tr>\n",
              "    <tr>\n",
              "      <th>50</th>\n",
              "      <td>2010</td>\n",
              "      <td>32.079900</td>\n",
              "    </tr>\n",
              "    <tr>\n",
              "      <th>51</th>\n",
              "      <td>2011</td>\n",
              "      <td>26.790030</td>\n",
              "    </tr>\n",
              "    <tr>\n",
              "      <th>52</th>\n",
              "      <td>2012</td>\n",
              "      <td>22.835234</td>\n",
              "    </tr>\n",
              "    <tr>\n",
              "      <th>53</th>\n",
              "      <td>2013</td>\n",
              "      <td>29.153537</td>\n",
              "    </tr>\n",
              "    <tr>\n",
              "      <th>54</th>\n",
              "      <td>2014</td>\n",
              "      <td>22.957235</td>\n",
              "    </tr>\n",
              "    <tr>\n",
              "      <th>55</th>\n",
              "      <td>2015</td>\n",
              "      <td>33.140839</td>\n",
              "    </tr>\n",
              "    <tr>\n",
              "      <th>56</th>\n",
              "      <td>2016</td>\n",
              "      <td>23.913655</td>\n",
              "    </tr>\n",
              "  </tbody>\n",
              "</table>\n",
              "</div>\n",
              "      <button class=\"colab-df-convert\" onclick=\"convertToInteractive('df-95095dd4-58b7-49a4-8f41-f67f5ab0158f')\"\n",
              "              title=\"Convert this dataframe to an interactive table.\"\n",
              "              style=\"display:none;\">\n",
              "        \n",
              "  <svg xmlns=\"http://www.w3.org/2000/svg\" height=\"24px\"viewBox=\"0 0 24 24\"\n",
              "       width=\"24px\">\n",
              "    <path d=\"M0 0h24v24H0V0z\" fill=\"none\"/>\n",
              "    <path d=\"M18.56 5.44l.94 2.06.94-2.06 2.06-.94-2.06-.94-.94-2.06-.94 2.06-2.06.94zm-11 1L8.5 8.5l.94-2.06 2.06-.94-2.06-.94L8.5 2.5l-.94 2.06-2.06.94zm10 10l.94 2.06.94-2.06 2.06-.94-2.06-.94-.94-2.06-.94 2.06-2.06.94z\"/><path d=\"M17.41 7.96l-1.37-1.37c-.4-.4-.92-.59-1.43-.59-.52 0-1.04.2-1.43.59L10.3 9.45l-7.72 7.72c-.78.78-.78 2.05 0 2.83L4 21.41c.39.39.9.59 1.41.59.51 0 1.02-.2 1.41-.59l7.78-7.78 2.81-2.81c.8-.78.8-2.07 0-2.86zM5.41 20L4 18.59l7.72-7.72 1.47 1.35L5.41 20z\"/>\n",
              "  </svg>\n",
              "      </button>\n",
              "      \n",
              "  <style>\n",
              "    .colab-df-container {\n",
              "      display:flex;\n",
              "      flex-wrap:wrap;\n",
              "      gap: 12px;\n",
              "    }\n",
              "\n",
              "    .colab-df-convert {\n",
              "      background-color: #E8F0FE;\n",
              "      border: none;\n",
              "      border-radius: 50%;\n",
              "      cursor: pointer;\n",
              "      display: none;\n",
              "      fill: #1967D2;\n",
              "      height: 32px;\n",
              "      padding: 0 0 0 0;\n",
              "      width: 32px;\n",
              "    }\n",
              "\n",
              "    .colab-df-convert:hover {\n",
              "      background-color: #E2EBFA;\n",
              "      box-shadow: 0px 1px 2px rgba(60, 64, 67, 0.3), 0px 1px 3px 1px rgba(60, 64, 67, 0.15);\n",
              "      fill: #174EA6;\n",
              "    }\n",
              "\n",
              "    [theme=dark] .colab-df-convert {\n",
              "      background-color: #3B4455;\n",
              "      fill: #D2E3FC;\n",
              "    }\n",
              "\n",
              "    [theme=dark] .colab-df-convert:hover {\n",
              "      background-color: #434B5C;\n",
              "      box-shadow: 0px 1px 3px 1px rgba(0, 0, 0, 0.15);\n",
              "      filter: drop-shadow(0px 1px 2px rgba(0, 0, 0, 0.3));\n",
              "      fill: #FFFFFF;\n",
              "    }\n",
              "  </style>\n",
              "\n",
              "      <script>\n",
              "        const buttonEl =\n",
              "          document.querySelector('#df-95095dd4-58b7-49a4-8f41-f67f5ab0158f button.colab-df-convert');\n",
              "        buttonEl.style.display =\n",
              "          google.colab.kernel.accessAllowed ? 'block' : 'none';\n",
              "\n",
              "        async function convertToInteractive(key) {\n",
              "          const element = document.querySelector('#df-95095dd4-58b7-49a4-8f41-f67f5ab0158f');\n",
              "          const dataTable =\n",
              "            await google.colab.kernel.invokeFunction('convertToInteractive',\n",
              "                                                     [key], {});\n",
              "          if (!dataTable) return;\n",
              "\n",
              "          const docLinkHtml = 'Like what you see? Visit the ' +\n",
              "            '<a target=\"_blank\" href=https://colab.research.google.com/notebooks/data_table.ipynb>data table notebook</a>'\n",
              "            + ' to learn more about interactive tables.';\n",
              "          element.innerHTML = '';\n",
              "          dataTable['output_type'] = 'display_data';\n",
              "          await google.colab.output.renderOutput(dataTable, element);\n",
              "          const docLink = document.createElement('div');\n",
              "          docLink.innerHTML = docLinkHtml;\n",
              "          element.appendChild(docLink);\n",
              "        }\n",
              "      </script>\n",
              "    </div>\n",
              "  </div>\n",
              "  "
            ]
          },
          "metadata": {},
          "execution_count": 3
        }
      ],
      "source": [
        "df = pd.read_csv('Dataset.csv')\n",
        "df"
      ],
      "id": "i2HY3qj9Siuw"
    },
    {
      "cell_type": "markdown",
      "source": [
        "# 🌧 Please run the following code cell to create your `x_train` and `y_train` variables. The data is stored in one-dimensional NumPy arrays. : "
      ],
      "metadata": {
        "id": "8sIIVdlDfhdf"
      },
      "id": "8sIIVdlDfhdf"
    },
    {
      "cell_type": "code",
      "source": [
        "print(f\"x_train = {x_train}\")\n",
        "print(f\"y_train = {y_train}\")"
      ],
      "metadata": {
        "colab": {
          "base_uri": "https://localhost:8080/"
        },
        "id": "fYZF-jf3a3Sd",
        "outputId": "b68bf2e4-b52e-4f4c-a32e-52800e4928aa"
      },
      "id": "fYZF-jf3a3Sd",
      "execution_count": null,
      "outputs": [
        {
          "output_type": "stream",
          "name": "stdout",
          "text": [
            "x_train = [1960, 1961, 1962, 1963, 1964, 1965, 1966, 1967, 1968, 1969, 1970, 1971, 1972, 1973, 1974, 1975, 1976, 1977, 1978, 1979, 1980, 1981, 1982, 1983, 1984, 1985, 1986, 1987, 1988, 1989, 1990, 1991, 1992, 1993, 1994, 1995, 1996, 1997, 1998, 1999, 2000, 2001, 2002, 2003, 2004, 2005, 2006, 2007, 2008, 2009, 2010, 2011, 2012, 2013, 2014, 2015, 2016]\n",
            "y_train = [22.96876417, 30.01744917, 22.300155, 18.84656167, 25.16966333, 24.4512575, 22.54825917, 31.15643583, 18.00598667, 18.71605667, 25.77336667, 17.02884917, 22.92349667, 26.46456833, 17.7767225, 30.5011225, 33.65308583, 24.60518417, 31.13002833, 27.368945, 24.89661667, 27.62843833, 30.51863833, 31.63848083, 23.49638333, 20.7937675, 29.1173075, 19.93579917, 26.93608833, 26.21584167, 32.24276167, 24.05054083, 31.54837833, 20.73338917, 35.2729825, 29.38667, 28.55422917, 30.67739583, 25.0761675, 21.1350625, 15.98308, 19.48818167, 17.45571333, 32.17392417, 21.4776975, 26.97424, 30.47072917, 26.53999583, 28.10298917, 23.55043333, 32.0799, 26.79003, 22.83523417, 29.1535375, 22.957235, 33.14083917, 23.913655]\n"
          ]
        }
      ]
    },
    {
      "cell_type": "markdown",
      "source": [
        "# 🌧 Plot the data using bar() method and show the plot"
      ],
      "metadata": {
        "id": "dythvMxtffEI"
      },
      "id": "dythvMxtffEI"
    },
    {
      "cell_type": "code",
      "source": [
        "x_train = list(df.iloc[:, 0])\n",
        "y_train = list(df.iloc[:, 1])\n",
        "  \n",
        "\n",
        "plt.bar(x_train, y_train, color='g')\n",
        "plt.title(\"Annual Rainfall\")\n",
        "plt.xlabel(\"Years\")\n",
        "plt.ylabel(\"RainFall Mean()\")\n",
        "  \n",
        "plt.show()"
      ],
      "metadata": {
        "colab": {
          "base_uri": "https://localhost:8080/",
          "height": 295
        },
        "id": "KJlhpfeQWKWt",
        "outputId": "9ac0bf9b-04ff-4021-a6b8-3fe58963ff82"
      },
      "id": "KJlhpfeQWKWt",
      "execution_count": null,
      "outputs": [
        {
          "output_type": "display_data",
          "data": {
            "text/plain": [
              "<Figure size 432x288 with 1 Axes>"
            ],
            "image/png": "[encoded data removed]"
          },
          "metadata": {
            "needs_background": "light"
          }
        }
      ]
    },
    {
      "cell_type": "markdown",
      "metadata": {
        "id": "FsMfVwQdSiuz"
      },
      "source": [
        "# 🌧 Number of training examples `m`\n",
        "You will use `m` to denote the number of training examples. Numpy arrays have a `.shape` parameter. `x_train.shape` returns a python tuple with an entry for each dimension. `len(x)` is the length of the list and number of examples as shown below."
      ],
      "id": "FsMfVwQdSiuz"
    },
    {
      "cell_type": "code",
      "execution_count": null,
      "metadata": {
        "id": "8r7EEsvPSiu0",
        "outputId": "71f37083-259a-48f2-ee5f-73d72cbaddca",
        "colab": {
          "base_uri": "https://localhost:8080/"
        }
      },
      "outputs": [
        {
          "output_type": "stream",
          "name": "stdout",
          "text": [
            "Number of training examples is: 57\n"
          ]
        }
      ],
      "source": [
        "# m is the number of training examples\n",
        "m = len(x_train)\n",
        "print(f\"Number of training examples is: {m}\")"
      ],
      "id": "8r7EEsvPSiu0"
    },
    {
      "cell_type": "markdown",
      "metadata": {
        "id": "JH-OMeqlSiu1"
      },
      "source": [
        "# 🌧 Training example `x_i, y_i`\n",
        "\n",
        "You will use (x$^{(i)}$, y$^{(i)}$) to denote the $i^{th}$ training example. Since Python is zero indexed, (x$^{(0)}$, y$^{(0)}$) is (1.0, 300.0) and (x$^{(1)}$, y$^{(1)}$) is (2.0, 500.0). \n",
        "\n",
        "To access a value in a Numpy array, one indexes the array with the desired offset. For example the syntax to access location zero of `x_train` is `x_train[0]`.\n",
        "Run the next code block below to get the $i^{th}$ training example."
      ],
      "id": "JH-OMeqlSiu1"
    },
    {
      "cell_type": "code",
      "execution_count": null,
      "metadata": {
        "id": "FLIPZplTSiu1",
        "outputId": "2e81ee8e-b9f3-4ec2-f2a3-73547e70388d",
        "colab": {
          "base_uri": "https://localhost:8080/"
        }
      },
      "outputs": [
        {
          "output_type": "stream",
          "name": "stdout",
          "text": [
            "(x^(0), y^(0)) = (1960, 22.96876417)\n"
          ]
        }
      ],
      "source": [
        "i = 0 # Change this to 1 to see (x^1, y^1)\n",
        "\n",
        "x_i = x_train[i]\n",
        "y_i = y_train[i]\n",
        "print(f\"(x^({i}), y^({i})) = ({x_i}, {y_i})\")"
      ],
      "id": "FLIPZplTSiu1"
    },
    {
      "cell_type": "markdown",
      "metadata": {
        "id": "I5Py3_4WSiu1"
      },
      "source": [
        "# 🌧 Plotting the data"
      ],
      "id": "I5Py3_4WSiu1"
    },
    {
      "cell_type": "markdown",
      "metadata": {
        "id": "1GL7rFMDSiu2"
      },
      "source": [
        "You can plot these two points using the `scatter()` function in the `matplotlib` library, as shown in the cell below. \n",
        "- The function arguments `marker` and `c` show the points as red crosses (the default is blue dots).\n",
        "\n",
        "You can use other functions in the `matplotlib` library to set the title and labels to display"
      ],
      "id": "1GL7rFMDSiu2"
    },
    {
      "cell_type": "code",
      "execution_count": null,
      "metadata": {
        "id": "ShTyumEpSiu2",
        "outputId": "98e14337-b55d-446c-dd06-ba96894455c2",
        "colab": {
          "base_uri": "https://localhost:8080/",
          "height": 295
        }
      },
      "outputs": [
        {
          "output_type": "display_data",
          "data": {
            "text/plain": [
              "<Figure size 432x288 with 1 Axes>"
            ],
            "image/png": "[encoded data removed]"
          },
          "metadata": {
            "needs_background": "light"
          }
        }
      ],
      "source": [
        "# Plot the data points\n",
        "plt.scatter( x_train, y_train, marker='x', c='r') #exchange x_train location with y_train here to get flipped axis\n",
        "# Set the title\n",
        "plt.title(\"RainFall Mean()\")\n",
        "# Set the y-axis label\n",
        "plt.ylabel('Year')\n",
        "# Set the x-axis label\n",
        "plt.xlabel('Year')\n",
        "plt.show()"
      ],
      "id": "ShTyumEpSiu2"
    },
    {
      "cell_type": "markdown",
      "metadata": {
        "id": "YFz_qyYiSiu3"
      },
      "source": [
        "# You did it!✨"
      ],
      "id": "YFz_qyYiSiu3"
    }
  ],
  "metadata": {
    "kernelspec": {
      "display_name": "Python 3",
      "language": "python",
      "name": "python3"
    },
    "language_info": {
      "codemirror_mode": {
        "name": "ipython",
        "version": 3
      },
      "file_extension": ".py",
      "mimetype": "text/x-python",
      "name": "python",
      "nbconvert_exporter": "python",
      "pygments_lexer": "ipython3",
      "version": "3.7.6"
    },
    "toc-autonumbering": false,
    "colab": {
      "provenance": []
    }
  },
  "nbformat": 4,
  "nbformat_minor": 5
}